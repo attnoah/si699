{
 "cells": [
  {
   "cell_type": "code",
   "execution_count": 3,
   "id": "8c910518",
   "metadata": {},
   "outputs": [],
   "source": [
    "from transformers import AutoTokenizer, AutoModelForSequenceClassification, TextClassificationPipeline\n",
    "import pandas as pd\n",
    "import evaluate\n",
    "import numpy as np\n",
    "from datasets import Dataset"
   ]
  },
  {
   "cell_type": "code",
   "execution_count": 1,
   "id": "8bcf107f",
   "metadata": {},
   "outputs": [],
   "source": [
    "from sklearn.metrics import f1_score, confusion_matrix"
   ]
  },
  {
   "cell_type": "code",
   "execution_count": 4,
   "id": "90bfce7a",
   "metadata": {},
   "outputs": [
    {
     "data": {
      "text/html": [
       "<div>\n",
       "<style scoped>\n",
       "    .dataframe tbody tr th:only-of-type {\n",
       "        vertical-align: middle;\n",
       "    }\n",
       "\n",
       "    .dataframe tbody tr th {\n",
       "        vertical-align: top;\n",
       "    }\n",
       "\n",
       "    .dataframe thead th {\n",
       "        text-align: right;\n",
       "    }\n",
       "</style>\n",
       "<table border=\"1\" class=\"dataframe\">\n",
       "  <thead>\n",
       "    <tr style=\"text-align: right;\">\n",
       "      <th></th>\n",
       "      <th>text</th>\n",
       "      <th>label</th>\n",
       "    </tr>\n",
       "  </thead>\n",
       "  <tbody>\n",
       "    <tr>\n",
       "      <th>0</th>\n",
       "      <td>['; Gus Smith, 21, shot by police In the attem...</td>\n",
       "      <td>1</td>\n",
       "    </tr>\n",
       "    <tr>\n",
       "      <th>1</th>\n",
       "      <td>['and of gunmen, wbleh the police said numbere...</td>\n",
       "      <td>0</td>\n",
       "    </tr>\n",
       "    <tr>\n",
       "      <th>2</th>\n",
       "      <td>['LPHIA - (AP) Hundreds of police, aided by st...</td>\n",
       "      <td>0</td>\n",
       "    </tr>\n",
       "    <tr>\n",
       "      <th>3</th>\n",
       "      <td>[\"dent of Michigan's black police association,...</td>\n",
       "      <td>1</td>\n",
       "    </tr>\n",
       "    <tr>\n",
       "      <th>4</th>\n",
       "      <td>['n, maintenance, military police and medical ...</td>\n",
       "      <td>0</td>\n",
       "    </tr>\n",
       "  </tbody>\n",
       "</table>\n",
       "</div>"
      ],
      "text/plain": [
       "                                                text  label\n",
       "0  ['; Gus Smith, 21, shot by police In the attem...      1\n",
       "1  ['and of gunmen, wbleh the police said numbere...      0\n",
       "2  ['LPHIA - (AP) Hundreds of police, aided by st...      0\n",
       "3  [\"dent of Michigan's black police association,...      1\n",
       "4  ['n, maintenance, military police and medical ...      0"
      ]
     },
     "execution_count": 4,
     "metadata": {},
     "output_type": "execute_result"
    }
   ],
   "source": [
    "def clean_dataset(filename, small_segment=True):\n",
    "    dataset = pd.read_csv(filename)\n",
    "    dataset = dataset[[\"segment_25\",\"Class\"]]\n",
    "    dataset = dataset.rename(columns = {\"segment_25\":\"text\",\"Class\":\"label\"})\n",
    "    return dataset\n",
    "\n",
    "dataset = clean_dataset('training_data_segmented.csv')\n",
    "dataset.head()"
   ]
  },
  {
   "cell_type": "code",
   "execution_count": 5,
   "id": "aab44c50",
   "metadata": {},
   "outputs": [],
   "source": [
    "tokenizer = AutoTokenizer.from_pretrained('bert-base-uncased2')\n",
    "model = AutoModelForSequenceClassification.from_pretrained('bert-base-uncased2')"
   ]
  },
  {
   "cell_type": "code",
   "execution_count": 6,
   "id": "5ca3ee66",
   "metadata": {},
   "outputs": [],
   "source": [
    "def tokenize(examples):\n",
    "    return tokenizer(examples['text'], padding=\"max_length\", truncation=True)"
   ]
  },
  {
   "cell_type": "code",
   "execution_count": 7,
   "id": "52757e03",
   "metadata": {},
   "outputs": [
    {
     "name": "stderr",
     "output_type": "stream",
     "text": [
      "Parameter 'function'=<function tokenize at 0x7fbe9eedf370> of the transform datasets.arrow_dataset.Dataset._map_single couldn't be hashed properly, a random hash was used instead. Make sure your transforms and parameters are serializable with pickle or dill for the dataset fingerprinting and caching to work. If you reuse this transform, the caching mechanism will consider it to be different from the previous calls and recompute everything. This warning is only showed once. Subsequent hashing failures won't be showed.\n"
     ]
    },
    {
     "data": {
      "application/vnd.jupyter.widget-view+json": {
       "model_id": "134cc8c107154d10807bd5ea564eb77b",
       "version_major": 2,
       "version_minor": 0
      },
      "text/plain": [
       "  0%|          | 0/1 [00:00<?, ?ba/s]"
      ]
     },
     "metadata": {},
     "output_type": "display_data"
    }
   ],
   "source": [
    "dataset = Dataset.from_pandas(dataset)\n",
    "dataset = dataset.map(tokenize, batched=True)"
   ]
  },
  {
   "cell_type": "code",
   "execution_count": 8,
   "id": "6699f82d",
   "metadata": {},
   "outputs": [],
   "source": [
    "ds = dataset.train_test_split(test_size = .2, shuffle=True, seed=42)"
   ]
  },
  {
   "cell_type": "code",
   "execution_count": 9,
   "id": "f5f34824",
   "metadata": {},
   "outputs": [],
   "source": [
    "metric = evaluate.load('accuracy.py')\n",
    "\n",
    "def compute_metrics(eval_pred):\n",
    "    logits, labels = eval_pred\n",
    "    predictions = np.argmax(logits, axis=-1)\n",
    "    f1 = f1_score(labels, predictions, average=\"weighted\")\n",
    "    cm = confusion_matrix(labels, predictions)\n",
    "    accuracy = metric.compute(predictions=predictions, references=labels)\n",
    "    return {\"f1\": f1, \"confusion_matrix\": cm, \"accuracy\": accuracy}"
   ]
  },
  {
   "cell_type": "code",
   "execution_count": 10,
   "id": "45c6e1fa",
   "metadata": {},
   "outputs": [
    {
     "name": "stderr",
     "output_type": "stream",
     "text": [
      "huggingface/tokenizers: The current process just got forked, after parallelism has already been used. Disabling parallelism to avoid deadlocks...\n",
      "To disable this warning, you can either:\n",
      "\t- Avoid using `tokenizers` before the fork if possible\n",
      "\t- Explicitly set the environment variable TOKENIZERS_PARALLELISM=(true | false)\n",
      "huggingface/tokenizers: The current process just got forked, after parallelism has already been used. Disabling parallelism to avoid deadlocks...\n",
      "To disable this warning, you can either:\n",
      "\t- Avoid using `tokenizers` before the fork if possible\n",
      "\t- Explicitly set the environment variable TOKENIZERS_PARALLELISM=(true | false)\n",
      "huggingface/tokenizers: The current process just got forked, after parallelism has already been used. Disabling parallelism to avoid deadlocks...\n",
      "To disable this warning, you can either:\n",
      "\t- Avoid using `tokenizers` before the fork if possible\n",
      "\t- Explicitly set the environment variable TOKENIZERS_PARALLELISM=(true | false)\n",
      "huggingface/tokenizers: The current process just got forked, after parallelism has already been used. Disabling parallelism to avoid deadlocks...\n",
      "To disable this warning, you can either:\n",
      "\t- Avoid using `tokenizers` before the fork if possible\n",
      "\t- Explicitly set the environment variable TOKENIZERS_PARALLELISM=(true | false)\n",
      "huggingface/tokenizers: The current process just got forked, after parallelism has already been used. Disabling parallelism to avoid deadlocks...\n",
      "To disable this warning, you can either:\n",
      "\t- Avoid using `tokenizers` before the fork if possible\n",
      "\t- Explicitly set the environment variable TOKENIZERS_PARALLELISM=(true | false)\n",
      "huggingface/tokenizers: The current process just got forked, after parallelism has already been used. Disabling parallelism to avoid deadlocks...\n",
      "To disable this warning, you can either:\n",
      "\t- Avoid using `tokenizers` before the fork if possible\n",
      "\t- Explicitly set the environment variable TOKENIZERS_PARALLELISM=(true | false)\n",
      "huggingface/tokenizers: The current process just got forked, after parallelism has already been used. Disabling parallelism to avoid deadlocks...\n",
      "To disable this warning, you can either:\n",
      "\t- Avoid using `tokenizers` before the fork if possible\n",
      "\t- Explicitly set the environment variable TOKENIZERS_PARALLELISM=(true | false)\n",
      "huggingface/tokenizers: The current process just got forked, after parallelism has already been used. Disabling parallelism to avoid deadlocks...\n",
      "To disable this warning, you can either:\n",
      "\t- Avoid using `tokenizers` before the fork if possible\n",
      "\t- Explicitly set the environment variable TOKENIZERS_PARALLELISM=(true | false)\n",
      "huggingface/tokenizers: The current process just got forked, after parallelism has already been used. Disabling parallelism to avoid deadlocks...\n",
      "To disable this warning, you can either:\n",
      "\t- Avoid using `tokenizers` before the fork if possible\n",
      "\t- Explicitly set the environment variable TOKENIZERS_PARALLELISM=(true | false)\n",
      "huggingface/tokenizers: The current process just got forked, after parallelism has already been used. Disabling parallelism to avoid deadlocks...\n",
      "To disable this warning, you can either:\n",
      "\t- Avoid using `tokenizers` before the fork if possible\n",
      "\t- Explicitly set the environment variable TOKENIZERS_PARALLELISM=(true | false)\n",
      "/home/ec2-user/anaconda3/envs/python3/lib/python3.10/site-packages/torch/cuda/__init__.py:734: UserWarning: Can't initialize NVML\n",
      "  warnings.warn(\"Can't initialize NVML\")\n",
      "huggingface/tokenizers: The current process just got forked, after parallelism has already been used. Disabling parallelism to avoid deadlocks...\n",
      "To disable this warning, you can either:\n",
      "\t- Avoid using `tokenizers` before the fork if possible\n",
      "\t- Explicitly set the environment variable TOKENIZERS_PARALLELISM=(true | false)\n",
      "huggingface/tokenizers: The current process just got forked, after parallelism has already been used. Disabling parallelism to avoid deadlocks...\n",
      "To disable this warning, you can either:\n",
      "\t- Avoid using `tokenizers` before the fork if possible\n",
      "\t- Explicitly set the environment variable TOKENIZERS_PARALLELISM=(true | false)\n",
      "huggingface/tokenizers: The current process just got forked, after parallelism has already been used. Disabling parallelism to avoid deadlocks...\n",
      "To disable this warning, you can either:\n",
      "\t- Avoid using `tokenizers` before the fork if possible\n",
      "\t- Explicitly set the environment variable TOKENIZERS_PARALLELISM=(true | false)\n"
     ]
    },
    {
     "data": {
      "text/html": [
       "\n",
       "    <div>\n",
       "      \n",
       "      <progress value='43' max='42' style='width:300px; height:20px; vertical-align: middle;'></progress>\n",
       "      [42/42 10:31, Epoch 3/3]\n",
       "    </div>\n",
       "    <table border=\"1\" class=\"dataframe\">\n",
       "  <thead>\n",
       " <tr style=\"text-align: left;\">\n",
       "      <th>Epoch</th>\n",
       "      <th>Training Loss</th>\n",
       "      <th>Validation Loss</th>\n",
       "      <th>F1</th>\n",
       "      <th>Confusion Matrix</th>\n",
       "      <th>Accuracy</th>\n",
       "    </tr>\n",
       "  </thead>\n",
       "  <tbody>\n",
       "    <tr>\n",
       "      <td>1</td>\n",
       "      <td>No log</td>\n",
       "      <td>0.585561</td>\n",
       "      <td>0.681445</td>\n",
       "      <td>[[ 4  8]\n",
       " [ 0 17]]</td>\n",
       "      <td>{'accuracy': 0.7241379310344828}</td>\n",
       "    </tr>\n",
       "    <tr>\n",
       "      <td>2</td>\n",
       "      <td>No log</td>\n",
       "      <td>0.538919</td>\n",
       "      <td>0.726127</td>\n",
       "      <td>[[ 9  3]\n",
       " [ 5 12]]</td>\n",
       "      <td>{'accuracy': 0.7241379310344828}</td>\n",
       "    </tr>\n",
       "    <tr>\n",
       "      <td>3</td>\n",
       "      <td>No log</td>\n",
       "      <td>0.488841</td>\n",
       "      <td>0.783303</td>\n",
       "      <td>[[ 7  5]\n",
       " [ 1 16]]</td>\n",
       "      <td>{'accuracy': 0.7931034482758621}</td>\n",
       "    </tr>\n",
       "  </tbody>\n",
       "</table><p>"
      ],
      "text/plain": [
       "<IPython.core.display.HTML object>"
      ]
     },
     "metadata": {},
     "output_type": "display_data"
    },
    {
     "ename": "TypeError",
     "evalue": "Object of type ndarray is not JSON serializable",
     "output_type": "error",
     "traceback": [
      "\u001b[0;31m---------------------------------------------------------------------------\u001b[0m",
      "\u001b[0;31mTypeError\u001b[0m                                 Traceback (most recent call last)",
      "Cell \u001b[0;32mIn[10], line 16\u001b[0m\n\u001b[1;32m      3\u001b[0m train_args \u001b[38;5;241m=\u001b[39m TrainingArguments(\n\u001b[1;32m      4\u001b[0m     output_dir \u001b[38;5;241m=\u001b[39m \u001b[38;5;124m\"\u001b[39m\u001b[38;5;124mpolice_classifier\u001b[39m\u001b[38;5;124m\"\u001b[39m,\n\u001b[1;32m      5\u001b[0m     eval_strategy \u001b[38;5;241m=\u001b[39m \u001b[38;5;124m\"\u001b[39m\u001b[38;5;124mepoch\u001b[39m\u001b[38;5;124m\"\u001b[39m,\n\u001b[1;32m      6\u001b[0m     push_to_hub \u001b[38;5;241m=\u001b[39m \u001b[38;5;28;01mFalse\u001b[39;00m)\n\u001b[1;32m      9\u001b[0m trainer \u001b[38;5;241m=\u001b[39m Trainer(\n\u001b[1;32m     10\u001b[0m     model\u001b[38;5;241m=\u001b[39mmodel,\n\u001b[1;32m     11\u001b[0m     args \u001b[38;5;241m=\u001b[39m train_args,\n\u001b[1;32m     12\u001b[0m     train_dataset \u001b[38;5;241m=\u001b[39m ds[\u001b[38;5;124m'\u001b[39m\u001b[38;5;124mtrain\u001b[39m\u001b[38;5;124m'\u001b[39m],\n\u001b[1;32m     13\u001b[0m     eval_dataset \u001b[38;5;241m=\u001b[39m ds[\u001b[38;5;124m'\u001b[39m\u001b[38;5;124mtest\u001b[39m\u001b[38;5;124m'\u001b[39m],\n\u001b[1;32m     14\u001b[0m     compute_metrics \u001b[38;5;241m=\u001b[39m compute_metrics)\n\u001b[0;32m---> 16\u001b[0m \u001b[43mtrainer\u001b[49m\u001b[38;5;241;43m.\u001b[39;49m\u001b[43mtrain\u001b[49m\u001b[43m(\u001b[49m\u001b[43m)\u001b[49m\n",
      "File \u001b[0;32m~/anaconda3/envs/python3/lib/python3.10/site-packages/transformers/trainer.py:2245\u001b[0m, in \u001b[0;36mTrainer.train\u001b[0;34m(self, resume_from_checkpoint, trial, ignore_keys_for_eval, **kwargs)\u001b[0m\n\u001b[1;32m   2243\u001b[0m         hf_hub_utils\u001b[38;5;241m.\u001b[39menable_progress_bars()\n\u001b[1;32m   2244\u001b[0m \u001b[38;5;28;01melse\u001b[39;00m:\n\u001b[0;32m-> 2245\u001b[0m     \u001b[38;5;28;01mreturn\u001b[39;00m \u001b[43minner_training_loop\u001b[49m\u001b[43m(\u001b[49m\n\u001b[1;32m   2246\u001b[0m \u001b[43m        \u001b[49m\u001b[43margs\u001b[49m\u001b[38;5;241;43m=\u001b[39;49m\u001b[43margs\u001b[49m\u001b[43m,\u001b[49m\n\u001b[1;32m   2247\u001b[0m \u001b[43m        \u001b[49m\u001b[43mresume_from_checkpoint\u001b[49m\u001b[38;5;241;43m=\u001b[39;49m\u001b[43mresume_from_checkpoint\u001b[49m\u001b[43m,\u001b[49m\n\u001b[1;32m   2248\u001b[0m \u001b[43m        \u001b[49m\u001b[43mtrial\u001b[49m\u001b[38;5;241;43m=\u001b[39;49m\u001b[43mtrial\u001b[49m\u001b[43m,\u001b[49m\n\u001b[1;32m   2249\u001b[0m \u001b[43m        \u001b[49m\u001b[43mignore_keys_for_eval\u001b[49m\u001b[38;5;241;43m=\u001b[39;49m\u001b[43mignore_keys_for_eval\u001b[49m\u001b[43m,\u001b[49m\n\u001b[1;32m   2250\u001b[0m \u001b[43m    \u001b[49m\u001b[43m)\u001b[49m\n",
      "File \u001b[0;32m~/anaconda3/envs/python3/lib/python3.10/site-packages/transformers/trainer.py:2627\u001b[0m, in \u001b[0;36mTrainer._inner_training_loop\u001b[0;34m(self, batch_size, args, resume_from_checkpoint, trial, ignore_keys_for_eval)\u001b[0m\n\u001b[1;32m   2625\u001b[0m     \u001b[38;5;28mself\u001b[39m\u001b[38;5;241m.\u001b[39mstate\u001b[38;5;241m.\u001b[39mepoch \u001b[38;5;241m=\u001b[39m epoch \u001b[38;5;241m+\u001b[39m (step \u001b[38;5;241m+\u001b[39m \u001b[38;5;241m1\u001b[39m \u001b[38;5;241m+\u001b[39m steps_skipped) \u001b[38;5;241m/\u001b[39m steps_in_epoch\n\u001b[1;32m   2626\u001b[0m     \u001b[38;5;28mself\u001b[39m\u001b[38;5;241m.\u001b[39mcontrol \u001b[38;5;241m=\u001b[39m \u001b[38;5;28mself\u001b[39m\u001b[38;5;241m.\u001b[39mcallback_handler\u001b[38;5;241m.\u001b[39mon_step_end(args, \u001b[38;5;28mself\u001b[39m\u001b[38;5;241m.\u001b[39mstate, \u001b[38;5;28mself\u001b[39m\u001b[38;5;241m.\u001b[39mcontrol)\n\u001b[0;32m-> 2627\u001b[0m     \u001b[38;5;28;43mself\u001b[39;49m\u001b[38;5;241;43m.\u001b[39;49m\u001b[43m_maybe_log_save_evaluate\u001b[49m\u001b[43m(\u001b[49m\n\u001b[1;32m   2628\u001b[0m \u001b[43m        \u001b[49m\u001b[43mtr_loss\u001b[49m\u001b[43m,\u001b[49m\n\u001b[1;32m   2629\u001b[0m \u001b[43m        \u001b[49m\u001b[43mgrad_norm\u001b[49m\u001b[43m,\u001b[49m\n\u001b[1;32m   2630\u001b[0m \u001b[43m        \u001b[49m\u001b[43mmodel\u001b[49m\u001b[43m,\u001b[49m\n\u001b[1;32m   2631\u001b[0m \u001b[43m        \u001b[49m\u001b[43mtrial\u001b[49m\u001b[43m,\u001b[49m\n\u001b[1;32m   2632\u001b[0m \u001b[43m        \u001b[49m\u001b[43mepoch\u001b[49m\u001b[43m,\u001b[49m\n\u001b[1;32m   2633\u001b[0m \u001b[43m        \u001b[49m\u001b[43mignore_keys_for_eval\u001b[49m\u001b[43m,\u001b[49m\n\u001b[1;32m   2634\u001b[0m \u001b[43m        \u001b[49m\u001b[43mstart_time\u001b[49m\u001b[43m,\u001b[49m\n\u001b[1;32m   2635\u001b[0m \u001b[43m        \u001b[49m\u001b[43mlearning_rate\u001b[49m\u001b[38;5;241;43m=\u001b[39;49m\u001b[43mlearning_rate\u001b[49m\u001b[43m,\u001b[49m\n\u001b[1;32m   2636\u001b[0m \u001b[43m    \u001b[49m\u001b[43m)\u001b[49m\n\u001b[1;32m   2637\u001b[0m \u001b[38;5;28;01melse\u001b[39;00m:\n\u001b[1;32m   2638\u001b[0m     \u001b[38;5;28mself\u001b[39m\u001b[38;5;241m.\u001b[39mcontrol \u001b[38;5;241m=\u001b[39m \u001b[38;5;28mself\u001b[39m\u001b[38;5;241m.\u001b[39mcallback_handler\u001b[38;5;241m.\u001b[39mon_substep_end(args, \u001b[38;5;28mself\u001b[39m\u001b[38;5;241m.\u001b[39mstate, \u001b[38;5;28mself\u001b[39m\u001b[38;5;241m.\u001b[39mcontrol)\n",
      "File \u001b[0;32m~/anaconda3/envs/python3/lib/python3.10/site-packages/transformers/trainer.py:3103\u001b[0m, in \u001b[0;36mTrainer._maybe_log_save_evaluate\u001b[0;34m(self, tr_loss, grad_norm, model, trial, epoch, ignore_keys_for_eval, start_time, learning_rate)\u001b[0m\n\u001b[1;32m   3100\u001b[0m         \u001b[38;5;28mself\u001b[39m\u001b[38;5;241m.\u001b[39mcontrol\u001b[38;5;241m.\u001b[39mshould_save \u001b[38;5;241m=\u001b[39m is_new_best_metric\n\u001b[1;32m   3102\u001b[0m \u001b[38;5;28;01mif\u001b[39;00m \u001b[38;5;28mself\u001b[39m\u001b[38;5;241m.\u001b[39mcontrol\u001b[38;5;241m.\u001b[39mshould_save:\n\u001b[0;32m-> 3103\u001b[0m     \u001b[38;5;28;43mself\u001b[39;49m\u001b[38;5;241;43m.\u001b[39;49m\u001b[43m_save_checkpoint\u001b[49m\u001b[43m(\u001b[49m\u001b[43mmodel\u001b[49m\u001b[43m,\u001b[49m\u001b[43m \u001b[49m\u001b[43mtrial\u001b[49m\u001b[43m)\u001b[49m\n\u001b[1;32m   3104\u001b[0m     \u001b[38;5;28mself\u001b[39m\u001b[38;5;241m.\u001b[39mcontrol \u001b[38;5;241m=\u001b[39m \u001b[38;5;28mself\u001b[39m\u001b[38;5;241m.\u001b[39mcallback_handler\u001b[38;5;241m.\u001b[39mon_save(\u001b[38;5;28mself\u001b[39m\u001b[38;5;241m.\u001b[39margs, \u001b[38;5;28mself\u001b[39m\u001b[38;5;241m.\u001b[39mstate, \u001b[38;5;28mself\u001b[39m\u001b[38;5;241m.\u001b[39mcontrol)\n",
      "File \u001b[0;32m~/anaconda3/envs/python3/lib/python3.10/site-packages/transformers/trainer.py:3228\u001b[0m, in \u001b[0;36mTrainer._save_checkpoint\u001b[0;34m(self, model, trial)\u001b[0m\n\u001b[1;32m   3226\u001b[0m         \u001b[38;5;28;01melse\u001b[39;00m:\n\u001b[1;32m   3227\u001b[0m             \u001b[38;5;28mself\u001b[39m\u001b[38;5;241m.\u001b[39mstate\u001b[38;5;241m.\u001b[39mstateful_callbacks[cb_name] \u001b[38;5;241m=\u001b[39m cb_state\n\u001b[0;32m-> 3228\u001b[0m     \u001b[38;5;28;43mself\u001b[39;49m\u001b[38;5;241;43m.\u001b[39;49m\u001b[43mstate\u001b[49m\u001b[38;5;241;43m.\u001b[39;49m\u001b[43msave_to_json\u001b[49m\u001b[43m(\u001b[49m\u001b[43mos\u001b[49m\u001b[38;5;241;43m.\u001b[39;49m\u001b[43mpath\u001b[49m\u001b[38;5;241;43m.\u001b[39;49m\u001b[43mjoin\u001b[49m\u001b[43m(\u001b[49m\u001b[43moutput_dir\u001b[49m\u001b[43m,\u001b[49m\u001b[43m \u001b[49m\u001b[43mTRAINER_STATE_NAME\u001b[49m\u001b[43m)\u001b[49m\u001b[43m)\u001b[49m\n\u001b[1;32m   3230\u001b[0m \u001b[38;5;28;01mif\u001b[39;00m \u001b[38;5;28mself\u001b[39m\u001b[38;5;241m.\u001b[39margs\u001b[38;5;241m.\u001b[39mpush_to_hub:\n\u001b[1;32m   3231\u001b[0m     \u001b[38;5;28mself\u001b[39m\u001b[38;5;241m.\u001b[39m_push_from_checkpoint(output_dir)\n",
      "File \u001b[0;32m~/anaconda3/envs/python3/lib/python3.10/site-packages/transformers/trainer_callback.py:146\u001b[0m, in \u001b[0;36mTrainerState.save_to_json\u001b[0;34m(self, json_path)\u001b[0m\n\u001b[1;32m    144\u001b[0m \u001b[38;5;28;01mdef\u001b[39;00m\u001b[38;5;250m \u001b[39m\u001b[38;5;21msave_to_json\u001b[39m(\u001b[38;5;28mself\u001b[39m, json_path: \u001b[38;5;28mstr\u001b[39m):\n\u001b[1;32m    145\u001b[0m \u001b[38;5;250m    \u001b[39m\u001b[38;5;124;03m\"\"\"Save the content of this instance in JSON format inside `json_path`.\"\"\"\u001b[39;00m\n\u001b[0;32m--> 146\u001b[0m     json_string \u001b[38;5;241m=\u001b[39m \u001b[43mjson\u001b[49m\u001b[38;5;241;43m.\u001b[39;49m\u001b[43mdumps\u001b[49m\u001b[43m(\u001b[49m\u001b[43mdataclasses\u001b[49m\u001b[38;5;241;43m.\u001b[39;49m\u001b[43masdict\u001b[49m\u001b[43m(\u001b[49m\u001b[38;5;28;43mself\u001b[39;49m\u001b[43m)\u001b[49m\u001b[43m,\u001b[49m\u001b[43m \u001b[49m\u001b[43mindent\u001b[49m\u001b[38;5;241;43m=\u001b[39;49m\u001b[38;5;241;43m2\u001b[39;49m\u001b[43m,\u001b[49m\u001b[43m \u001b[49m\u001b[43msort_keys\u001b[49m\u001b[38;5;241;43m=\u001b[39;49m\u001b[38;5;28;43;01mTrue\u001b[39;49;00m\u001b[43m)\u001b[49m \u001b[38;5;241m+\u001b[39m \u001b[38;5;124m\"\u001b[39m\u001b[38;5;130;01m\\n\u001b[39;00m\u001b[38;5;124m\"\u001b[39m\n\u001b[1;32m    147\u001b[0m     \u001b[38;5;28;01mwith\u001b[39;00m \u001b[38;5;28mopen\u001b[39m(json_path, \u001b[38;5;124m\"\u001b[39m\u001b[38;5;124mw\u001b[39m\u001b[38;5;124m\"\u001b[39m, encoding\u001b[38;5;241m=\u001b[39m\u001b[38;5;124m\"\u001b[39m\u001b[38;5;124mutf-8\u001b[39m\u001b[38;5;124m\"\u001b[39m) \u001b[38;5;28;01mas\u001b[39;00m f:\n\u001b[1;32m    148\u001b[0m         f\u001b[38;5;241m.\u001b[39mwrite(json_string)\n",
      "File \u001b[0;32m~/anaconda3/envs/python3/lib/python3.10/json/__init__.py:238\u001b[0m, in \u001b[0;36mdumps\u001b[0;34m(obj, skipkeys, ensure_ascii, check_circular, allow_nan, cls, indent, separators, default, sort_keys, **kw)\u001b[0m\n\u001b[1;32m    232\u001b[0m \u001b[38;5;28;01mif\u001b[39;00m \u001b[38;5;28mcls\u001b[39m \u001b[38;5;129;01mis\u001b[39;00m \u001b[38;5;28;01mNone\u001b[39;00m:\n\u001b[1;32m    233\u001b[0m     \u001b[38;5;28mcls\u001b[39m \u001b[38;5;241m=\u001b[39m JSONEncoder\n\u001b[1;32m    234\u001b[0m \u001b[38;5;28;01mreturn\u001b[39;00m \u001b[38;5;28;43mcls\u001b[39;49m\u001b[43m(\u001b[49m\n\u001b[1;32m    235\u001b[0m \u001b[43m    \u001b[49m\u001b[43mskipkeys\u001b[49m\u001b[38;5;241;43m=\u001b[39;49m\u001b[43mskipkeys\u001b[49m\u001b[43m,\u001b[49m\u001b[43m \u001b[49m\u001b[43mensure_ascii\u001b[49m\u001b[38;5;241;43m=\u001b[39;49m\u001b[43mensure_ascii\u001b[49m\u001b[43m,\u001b[49m\n\u001b[1;32m    236\u001b[0m \u001b[43m    \u001b[49m\u001b[43mcheck_circular\u001b[49m\u001b[38;5;241;43m=\u001b[39;49m\u001b[43mcheck_circular\u001b[49m\u001b[43m,\u001b[49m\u001b[43m \u001b[49m\u001b[43mallow_nan\u001b[49m\u001b[38;5;241;43m=\u001b[39;49m\u001b[43mallow_nan\u001b[49m\u001b[43m,\u001b[49m\u001b[43m \u001b[49m\u001b[43mindent\u001b[49m\u001b[38;5;241;43m=\u001b[39;49m\u001b[43mindent\u001b[49m\u001b[43m,\u001b[49m\n\u001b[1;32m    237\u001b[0m \u001b[43m    \u001b[49m\u001b[43mseparators\u001b[49m\u001b[38;5;241;43m=\u001b[39;49m\u001b[43mseparators\u001b[49m\u001b[43m,\u001b[49m\u001b[43m \u001b[49m\u001b[43mdefault\u001b[49m\u001b[38;5;241;43m=\u001b[39;49m\u001b[43mdefault\u001b[49m\u001b[43m,\u001b[49m\u001b[43m \u001b[49m\u001b[43msort_keys\u001b[49m\u001b[38;5;241;43m=\u001b[39;49m\u001b[43msort_keys\u001b[49m\u001b[43m,\u001b[49m\n\u001b[0;32m--> 238\u001b[0m \u001b[43m    \u001b[49m\u001b[38;5;241;43m*\u001b[39;49m\u001b[38;5;241;43m*\u001b[39;49m\u001b[43mkw\u001b[49m\u001b[43m)\u001b[49m\u001b[38;5;241;43m.\u001b[39;49m\u001b[43mencode\u001b[49m\u001b[43m(\u001b[49m\u001b[43mobj\u001b[49m\u001b[43m)\u001b[49m\n",
      "File \u001b[0;32m~/anaconda3/envs/python3/lib/python3.10/json/encoder.py:201\u001b[0m, in \u001b[0;36mJSONEncoder.encode\u001b[0;34m(self, o)\u001b[0m\n\u001b[1;32m    199\u001b[0m chunks \u001b[38;5;241m=\u001b[39m \u001b[38;5;28mself\u001b[39m\u001b[38;5;241m.\u001b[39miterencode(o, _one_shot\u001b[38;5;241m=\u001b[39m\u001b[38;5;28;01mTrue\u001b[39;00m)\n\u001b[1;32m    200\u001b[0m \u001b[38;5;28;01mif\u001b[39;00m \u001b[38;5;129;01mnot\u001b[39;00m \u001b[38;5;28misinstance\u001b[39m(chunks, (\u001b[38;5;28mlist\u001b[39m, \u001b[38;5;28mtuple\u001b[39m)):\n\u001b[0;32m--> 201\u001b[0m     chunks \u001b[38;5;241m=\u001b[39m \u001b[38;5;28;43mlist\u001b[39;49m\u001b[43m(\u001b[49m\u001b[43mchunks\u001b[49m\u001b[43m)\u001b[49m\n\u001b[1;32m    202\u001b[0m \u001b[38;5;28;01mreturn\u001b[39;00m \u001b[38;5;124m'\u001b[39m\u001b[38;5;124m'\u001b[39m\u001b[38;5;241m.\u001b[39mjoin(chunks)\n",
      "File \u001b[0;32m~/anaconda3/envs/python3/lib/python3.10/json/encoder.py:431\u001b[0m, in \u001b[0;36m_make_iterencode.<locals>._iterencode\u001b[0;34m(o, _current_indent_level)\u001b[0m\n\u001b[1;32m    429\u001b[0m     \u001b[38;5;28;01myield from\u001b[39;00m _iterencode_list(o, _current_indent_level)\n\u001b[1;32m    430\u001b[0m \u001b[38;5;28;01melif\u001b[39;00m \u001b[38;5;28misinstance\u001b[39m(o, \u001b[38;5;28mdict\u001b[39m):\n\u001b[0;32m--> 431\u001b[0m     \u001b[38;5;28;01myield from\u001b[39;00m _iterencode_dict(o, _current_indent_level)\n\u001b[1;32m    432\u001b[0m \u001b[38;5;28;01melse\u001b[39;00m:\n\u001b[1;32m    433\u001b[0m     \u001b[38;5;28;01mif\u001b[39;00m markers \u001b[38;5;129;01mis\u001b[39;00m \u001b[38;5;129;01mnot\u001b[39;00m \u001b[38;5;28;01mNone\u001b[39;00m:\n",
      "File \u001b[0;32m~/anaconda3/envs/python3/lib/python3.10/json/encoder.py:405\u001b[0m, in \u001b[0;36m_make_iterencode.<locals>._iterencode_dict\u001b[0;34m(dct, _current_indent_level)\u001b[0m\n\u001b[1;32m    403\u001b[0m         \u001b[38;5;28;01melse\u001b[39;00m:\n\u001b[1;32m    404\u001b[0m             chunks \u001b[38;5;241m=\u001b[39m _iterencode(value, _current_indent_level)\n\u001b[0;32m--> 405\u001b[0m         \u001b[38;5;28;01myield from\u001b[39;00m chunks\n\u001b[1;32m    406\u001b[0m \u001b[38;5;28;01mif\u001b[39;00m newline_indent \u001b[38;5;129;01mis\u001b[39;00m \u001b[38;5;129;01mnot\u001b[39;00m \u001b[38;5;28;01mNone\u001b[39;00m:\n\u001b[1;32m    407\u001b[0m     _current_indent_level \u001b[38;5;241m-\u001b[39m\u001b[38;5;241m=\u001b[39m \u001b[38;5;241m1\u001b[39m\n",
      "File \u001b[0;32m~/anaconda3/envs/python3/lib/python3.10/json/encoder.py:325\u001b[0m, in \u001b[0;36m_make_iterencode.<locals>._iterencode_list\u001b[0;34m(lst, _current_indent_level)\u001b[0m\n\u001b[1;32m    323\u001b[0m         \u001b[38;5;28;01melse\u001b[39;00m:\n\u001b[1;32m    324\u001b[0m             chunks \u001b[38;5;241m=\u001b[39m _iterencode(value, _current_indent_level)\n\u001b[0;32m--> 325\u001b[0m         \u001b[38;5;28;01myield from\u001b[39;00m chunks\n\u001b[1;32m    326\u001b[0m \u001b[38;5;28;01mif\u001b[39;00m newline_indent \u001b[38;5;129;01mis\u001b[39;00m \u001b[38;5;129;01mnot\u001b[39;00m \u001b[38;5;28;01mNone\u001b[39;00m:\n\u001b[1;32m    327\u001b[0m     _current_indent_level \u001b[38;5;241m-\u001b[39m\u001b[38;5;241m=\u001b[39m \u001b[38;5;241m1\u001b[39m\n",
      "File \u001b[0;32m~/anaconda3/envs/python3/lib/python3.10/json/encoder.py:405\u001b[0m, in \u001b[0;36m_make_iterencode.<locals>._iterencode_dict\u001b[0;34m(dct, _current_indent_level)\u001b[0m\n\u001b[1;32m    403\u001b[0m         \u001b[38;5;28;01melse\u001b[39;00m:\n\u001b[1;32m    404\u001b[0m             chunks \u001b[38;5;241m=\u001b[39m _iterencode(value, _current_indent_level)\n\u001b[0;32m--> 405\u001b[0m         \u001b[38;5;28;01myield from\u001b[39;00m chunks\n\u001b[1;32m    406\u001b[0m \u001b[38;5;28;01mif\u001b[39;00m newline_indent \u001b[38;5;129;01mis\u001b[39;00m \u001b[38;5;129;01mnot\u001b[39;00m \u001b[38;5;28;01mNone\u001b[39;00m:\n\u001b[1;32m    407\u001b[0m     _current_indent_level \u001b[38;5;241m-\u001b[39m\u001b[38;5;241m=\u001b[39m \u001b[38;5;241m1\u001b[39m\n",
      "File \u001b[0;32m~/anaconda3/envs/python3/lib/python3.10/json/encoder.py:438\u001b[0m, in \u001b[0;36m_make_iterencode.<locals>._iterencode\u001b[0;34m(o, _current_indent_level)\u001b[0m\n\u001b[1;32m    436\u001b[0m         \u001b[38;5;28;01mraise\u001b[39;00m \u001b[38;5;167;01mValueError\u001b[39;00m(\u001b[38;5;124m\"\u001b[39m\u001b[38;5;124mCircular reference detected\u001b[39m\u001b[38;5;124m\"\u001b[39m)\n\u001b[1;32m    437\u001b[0m     markers[markerid] \u001b[38;5;241m=\u001b[39m o\n\u001b[0;32m--> 438\u001b[0m o \u001b[38;5;241m=\u001b[39m \u001b[43m_default\u001b[49m\u001b[43m(\u001b[49m\u001b[43mo\u001b[49m\u001b[43m)\u001b[49m\n\u001b[1;32m    439\u001b[0m \u001b[38;5;28;01myield from\u001b[39;00m _iterencode(o, _current_indent_level)\n\u001b[1;32m    440\u001b[0m \u001b[38;5;28;01mif\u001b[39;00m markers \u001b[38;5;129;01mis\u001b[39;00m \u001b[38;5;129;01mnot\u001b[39;00m \u001b[38;5;28;01mNone\u001b[39;00m:\n",
      "File \u001b[0;32m~/anaconda3/envs/python3/lib/python3.10/json/encoder.py:179\u001b[0m, in \u001b[0;36mJSONEncoder.default\u001b[0;34m(self, o)\u001b[0m\n\u001b[1;32m    160\u001b[0m \u001b[38;5;28;01mdef\u001b[39;00m\u001b[38;5;250m \u001b[39m\u001b[38;5;21mdefault\u001b[39m(\u001b[38;5;28mself\u001b[39m, o):\n\u001b[1;32m    161\u001b[0m \u001b[38;5;250m    \u001b[39m\u001b[38;5;124;03m\"\"\"Implement this method in a subclass such that it returns\u001b[39;00m\n\u001b[1;32m    162\u001b[0m \u001b[38;5;124;03m    a serializable object for ``o``, or calls the base implementation\u001b[39;00m\n\u001b[1;32m    163\u001b[0m \u001b[38;5;124;03m    (to raise a ``TypeError``).\u001b[39;00m\n\u001b[0;32m   (...)\u001b[0m\n\u001b[1;32m    177\u001b[0m \n\u001b[1;32m    178\u001b[0m \u001b[38;5;124;03m    \"\"\"\u001b[39;00m\n\u001b[0;32m--> 179\u001b[0m     \u001b[38;5;28;01mraise\u001b[39;00m \u001b[38;5;167;01mTypeError\u001b[39;00m(\u001b[38;5;124mf\u001b[39m\u001b[38;5;124m'\u001b[39m\u001b[38;5;124mObject of type \u001b[39m\u001b[38;5;132;01m{\u001b[39;00mo\u001b[38;5;241m.\u001b[39m\u001b[38;5;18m__class__\u001b[39m\u001b[38;5;241m.\u001b[39m\u001b[38;5;18m__name__\u001b[39m\u001b[38;5;132;01m}\u001b[39;00m\u001b[38;5;124m \u001b[39m\u001b[38;5;124m'\u001b[39m\n\u001b[1;32m    180\u001b[0m                     \u001b[38;5;124mf\u001b[39m\u001b[38;5;124m'\u001b[39m\u001b[38;5;124mis not JSON serializable\u001b[39m\u001b[38;5;124m'\u001b[39m)\n",
      "\u001b[0;31mTypeError\u001b[0m: Object of type ndarray is not JSON serializable"
     ]
    }
   ],
   "source": [
    "from transformers import TrainingArguments, Trainer\n",
    "\n",
    "train_args = TrainingArguments(\n",
    "    output_dir = \"police_classifier\",\n",
    "    eval_strategy = \"epoch\",\n",
    "    push_to_hub = False)\n",
    "\n",
    "\n",
    "trainer = Trainer(\n",
    "    model=model,\n",
    "    args = train_args,\n",
    "    train_dataset = ds['train'],\n",
    "    eval_dataset = ds['test'],\n",
    "    compute_metrics = compute_metrics)\n",
    "\n",
    "trainer.train()"
   ]
  },
  {
   "cell_type": "code",
   "execution_count": 11,
   "id": "dc7aea52",
   "metadata": {},
   "outputs": [
    {
     "name": "stdout",
     "output_type": "stream",
     "text": [
      "{'eval_loss': 0.4888414442539215, 'eval_f1': 0.7833030852994555, 'eval_confusion_matrix': array([[ 7,  5],\n",
      "       [ 1, 16]]), 'eval_accuracy': {'accuracy': 0.7931034482758621}}\n"
     ]
    }
   ],
   "source": [
    "results = trainer.evaluate()\n",
    "print(results)"
   ]
  },
  {
   "cell_type": "code",
   "execution_count": 10,
   "id": "fec72288",
   "metadata": {},
   "outputs": [
    {
     "data": {
      "application/vnd.jupyter.widget-view+json": {
       "model_id": "96d62f493af3488dabfa296abea4d33b",
       "version_major": 2,
       "version_minor": 0
      },
      "text/plain": [
       "  0%|          | 0/1 [00:00<?, ?ba/s]"
      ]
     },
     "metadata": {},
     "output_type": "display_data"
    }
   ],
   "source": [
    "sample = pd.read_csv('validation_data.csv')\n",
    "sample = sample[[\"segment_25\"]]\n",
    "sample = sample.rename(columns = {\"segment_25\":\"text\"})\n",
    "\n",
    "tokenizer = AutoTokenizer.from_pretrained('bert-base-uncased2')\n",
    "model = AutoModelForSequenceClassification.from_pretrained('bert25_classification')\n",
    "\n",
    "sample = Dataset.from_pandas(sample)\n",
    "sample = sample.map(tokenize, batched=True)\n"
   ]
  },
  {
   "cell_type": "code",
   "execution_count": 11,
   "id": "ddc1a4a7",
   "metadata": {},
   "outputs": [
    {
     "name": "stderr",
     "output_type": "stream",
     "text": [
      "Device set to use cpu\n"
     ]
    },
    {
     "name": "stdout",
     "output_type": "stream",
     "text": [
      "Text: ['7:30 p.m. to 9 p.m. TITLEOFFICER OFFICERA Title Insurance Company'], Prediction: {'label': 'LABEL_0', 'score': 0.7746497988700867}\n",
      "Text: ['ork April 15 to elect theofficerofficer. The 1936 grots operatin'], Prediction: {'label': 'LABEL_0', 'score': 0.8294180631637573}\n",
      "Text: ['MEANWHILE, in Amritsar, apolice policeofficial and a Sikh docto', 'id the doctor. The deputypolice policesuperintendent, who helpe', 're giving instructions topolicepolice, judiciary and other off'], Prediction: {'label': 'LABEL_0', 'score': 0.7229017615318298}\n",
      "Text: ['Sam\" Bernstein, both withpolice policerecords, are back in the '], Prediction: {'label': 'LABEL_0', 'score': 0.7942268252372742}\n",
      "Text: [' Ohio 45891-0151 SECURITYOFFICEROFFICERS $300 Employment Bonus N'], Prediction: {'label': 'LABEL_0', 'score': 0.8049235939979553}\n",
      "Text: ['uals may face approachingpolicepolice. Duggan said the efforts', ' go beyond policepolice, that outreach outreach ', 'h the outstanding job thepolice policedepartment is doing with '], Prediction: {'label': 'LABEL_0', 'score': 0.6144294142723083}\n",
      "Text: [\"nder. The City of DetroitPolice Policeand Firemen's pension fun\", '- Driver escapes; reportsPOLICEPOLICE, from Page 1A quarters a', '. Don Bailey of the StatePolicePolice\\'s Detroit post. \"There\\'s', ' said. If the car and theofficerofficers are not readily identif', 'JJ Sgt. Don Bailey, StatePolice PoliceDetroit post do rent to e', 'ned with closure of phonypolice policeincrease agreeing to driv', 'e to the nearest police policestation. If motorists fle', 'e real policepolice, they could be chased as', 'disturbing to the DetroitPolice PoliceDepartment and the WBioHl', 'flee from a club-swingingpolicepoliceman. t i due to low rider', \"ops, O'Hair said. Detroitpolice policeexecutives could not be r\", \"ate-'80s LeBaron. Detroitpolice policesay Le-Barons Le-Barons a\"], Prediction: {'label': 'LABEL_1', 'score': 0.77782142162323}\n",
      "Text: ['680 2078 E. W MILE WARRENPOLICE POLICECADETS, H.S. Grad., age 1'], Prediction: {'label': 'LABEL_0', 'score': 0.7823305130004883}\n",
      "Text: [' an undercover undercoverpolice policeofficer. \"They did some r', 'ze they were talking to apolicepoliceman,\" said Lt. John Fiedl', 'er of the State PolicePolice, who posed as a gunman f', 'about a $3,000 job. Statepolice policesaid one of the men was m', 'f Lansing, a handyman whopolice policesaid occasionally worked ', 'o Annapolis Park.\" Union,officerofficers swap charges in police ', 'ad \"a whole bunch of goodofficerofficers . . . and a few who are', 'Staff Writers The DetroitPolice PoliceOfficers Association Tues', 'l supervisory and commandofficerofficers\" at the 4th Precinct wh', ' the decision to place anofficer officeron guard duty Monday nigh', 't at the police policeparking lot in subzero te', ' Larry Carter, as \"a goodofficerofficer\" during a Tuesday aftern', 'that Carter and two otherofficerofficers involved in recent disp', 'ds show. Executive DeputyPolice PoliceChief James Bannon said T', \" the department's highestofficerofficers and the DPOA on the inc\", 'd in World War II POW SeePOLICEPOLICE, Page 13A By BEN JOHNSON', 'e, according to FBI pressofficer officerJohn Anthony. Davis is no', \" employmentpP-' portunityofficer officerbeginning', in; 1972 unti\"], Prediction: {'label': 'LABEL_1', 'score': 0.8097606897354126}\n",
      "Text: [\". O'Brien, former Detroitpolice policeinspector in charge of th\", \"he institution's 20 - manpolice policeforce. There you will spe\", 't has its o-n postoffice,police policepolice and fire departmen', \". O'Brien is proud of hispolice policelJ 1 I Trod In your ofrf \", '26 H years on the DetroitPolice PoliceForce. o HIS MEN, NO long'], Prediction: {'label': 'LABEL_0', 'score': 0.5049559473991394}\n",
      "Text: [\"omfort- able, convenient,police policeprotec- rotec-' rotec-' f\"], Prediction: {'label': 'LABEL_0', 'score': 0.8051512837409973}\n",
      "Text: [' PRICES, AND... LISTEN TOPOLICEPOLICE, FIRE & WEATHER EMERGENC', 'nnrnf\" SCANNERS When yourpolice policeor fire department depart'], Prediction: {'label': 'LABEL_0', 'score': 0.7334059476852417}\n",
      "Text: ['pulled off an ice floe bypolicepolice. He and the others spent'], Prediction: {'label': 'LABEL_0', 'score': 0.7778849005699158}\n",
      "Text: ['ing summer summer drinks.OfficerOfficers and crew of the nearby ', 'uutil further report. Allofficerofficers believed to be saved. J', 'counted for. Many Spanishofficerofficers, including representati', 'he was boarded by Spanishpolice policeofficers who insisted uji'], Prediction: {'label': 'LABEL_1', 'score': 0.5213429927825928}\n",
      "Text: ['ained. \"Like the fire andpolice policedepartments, departments,'], Prediction: {'label': 'LABEL_0', 'score': 0.8229905962944031}\n",
      "Text: ['in the hands of the StatePolice Policecommissioner. REP. Alliso', 'eets and traffic, Detroitpolice policeand technicians of the Mi', 'iation calls for lists ofofficerofficers and directors from 1945'], Prediction: {'label': 'LABEL_0', 'score': 0.732018232345581}\n",
      "Text: ['10 12:00 \"The gang from \\'Police PoliceAcademy carry on with a l', 'TION A JLRRY PARIS Film \"POLICE POLICEACADEMY 3 BACK IN TRAININ'], Prediction: {'label': 'LABEL_0', 'score': 0.7121025919914246}\n",
      "Text: ['ankovich, chief executiveofficer officerof the New England Patrio', 'going to have a couple ofpolice policeofficers there,\" said Den'], Prediction: {'label': 'LABEL_0', 'score': 0.6907059550285339}\n",
      "Text: ['y men was protested by anofficer officerof a CIO union which repr'], Prediction: {'label': 'LABEL_0', 'score': 0.8127366900444031}\n",
      "Text: ['?s chief admimslra , liveofficerofficer, reports • directly to C', 'mployer • City Engineer •Police PoliceService Aide www.cl livon'], Prediction: {'label': 'LABEL_0', 'score': 0.7178009152412415}\n",
      "Text: ['liams, Commu nity AttairsOfficerOfficer, (312) 3V2-5V.U. The Fed', 'SLEY, P.C, 1-800-886-6000POLICE POLICEBRUTALITY Steven T. Budal', 'BLEMS EMPLOYMENT PROBLEMSPOLICE POLICEBRUTALITY Becker & Van Cl'], Prediction: {'label': 'LABEL_0', 'score': 0.7004140615463257}\n",
      "Text: ['es See ABORTION, Page 2 APolice Policekilling renews questions ', 'plainclothes plainclothespolice policeofficers on a southwest D', 'e his coat A witness toldpolice policethat officer Rico Hardy f', 'rdy had been shot, said apolice policeofficial with knowledge k', 'dge of the investigation.Police Policenever were able to confir', 'heory because because theofficerofficers refused to talk. Iturra', 'e gunshot gunshot wounds.Police Policenever found the gun that ', 'several weeks of internalpolice policereview and accusations by', 'munity community that thepolice policewere stalling. Itur-ralde', 's went to court Tues- SeeOFFICEROFFICERS, Page 8A IB Ann Landers', 'he retired Michigan StatePolice Policetrooper was pleased that '], Prediction: {'label': 'LABEL_1', 'score': 0.8507031202316284}\n",
      "Text: ['Dickens could have calledpolice policeand said she believesbeli', '?s west side.The man, whopolice policehave listed as unidentifi', '.m., according to Detroitpolice policespokesman OfficerAdam Mad', ' and one of themsped frompolice policeat more than 100 m.p.h. a', 'ame offenses plus fleeingpolice policebut has not been arraigne', ' to Detroit PublicSchoolspolicepolice. Thylor was puton admini', 'n.15.According to the DPSpolicepolicereport, Taylor was a seve'], Prediction: {'label': 'LABEL_1', 'score': 0.818299412727356}\n",
      "Text: ['or seven for 50 cents. Anofficer officerin uniform at the Eaton C'], Prediction: {'label': 'LABEL_0', 'score': 0.8064295649528503}\n",
      "Text: ['anne Pleshette. A cavalryofficer officerofficer attempts to work ', 'incy s called upon by thepolice policeto help them find the psy', \"roblems arise between twoofficerofficers. (R) O (24) Three's Com\"], Prediction: {'label': 'LABEL_0', 'score': 0.7372261881828308}\n",
      "Text: ['ntly caused his arrest bypolice policeof various various cities', 'h wing are administrativeofficerofficers, elerksreooks, etc. The', 'cks control of the secretpolice policeand the Communist Party; '], Prediction: {'label': 'LABEL_0', 'score': 0.7271213531494141}\n",
      "Text: [', iggj - a s-v v Iverson,police policebetter be quiet or they c', 'Township, Township, StatePolice Policesaid. Mark Robert Wal-by,', 't Michigan Michigan StatePolice Policeclosed sections of Inters', 'lities were reported, butpolice policesaid spin-outs continued ', ' back pains and released,police policesaid. Police said most st', ' only for Iverson but forpolice policeofficials and the Oakland', 'te December December whenpolicepolice, acting on a tip perhaps', 'r and McConnell Adams Jr.Police Policesay they have signed, vid'], Prediction: {'label': 'LABEL_1', 'score': 0.7769424915313721}\n",
      "Text: ['tinually by the politicalofficer officerof the Viet Cong umts. Th'], Prediction: {'label': 'LABEL_0', 'score': 0.8523836135864258}\n",
      "Text: ['all team. (R) CMJ Movie \"Police PoliceAcademy 3: Back in Traini'], Prediction: {'label': 'LABEL_0', 'score': 0.7914236783981323}\n",
      "Text: ['d In Suburb iDrug Raids .Police PoliceIn three downriver Commun', 'tte Wyandotte and Taylor.Police Policeacted on evidence assembl', 'niel Cuoore ol the TaylorPolice PoliceDepartment, who, as an un', \"ember. September. ',. Thepolice policeconfiscated ap- f roximat\", 'unty Jail without bond. 1Police Policesaid they are still J loo'], Prediction: {'label': 'LABEL_1', 'score': 0.5892263650894165}\n",
      "Text: [\"e movies. If a young Armyofficerofficer's eye be damaged he is m\", 'yson D. Foster, executiveofficer officerof the club, announced to'], Prediction: {'label': 'LABEL_0', 'score': 0.7452648878097534}\n",
      "Text: ['ld. . \" \" \\' \" \\' J Davisonpolice policesay they recover ou can S', ' Attacks on Girl. Detroitpolice policeyesterday airested eight ', 'Those arrested by Davisonpolice policeon charges of robbery ai ', 'reet. Seize $650 In Loot.Police Policealso aav thev found two a', ' address. In the 1 house,police policesay they found stolen mer', 'aluables. The boys, afterpolice policesay they confessed to hav', 'ned over to Macomb countypolicepolice. The youths were arreste', 't youths were arrested bypolice policeof the Can-field Can-fiel', 'e station flier crew. Thepolice policehad obtained the license ', 'r to Macomb county countypolicepolice. The girl who waa attack', 'tion section of gas pipe,police policesaid, was exploded explod', 'ID BIG STILL IN WYANDOTTEPolice PoliceAlso Seize Brewery ai Bor', 'on the alleged still, theofficerofficers said, they I raided a b', 'and two wheelbarrows. Theofficerofficers reported thev found . H', 'ed to pull the rowboat. IOfficerOfficers also found a large seda'], Prediction: {'label': 'LABEL_1', 'score': 0.8464712500572205}\n",
      "Text: ['who Seven Belgian A r m Vofficerofficers mcy attain political we', 'a, was given the rank of,officer officerof the order. CREMONA Off'], Prediction: {'label': 'LABEL_0', 'score': 0.7853659391403198}\n",
      "Text: ['s of sources who told himpolice policebeat two blacks suspected', ' of assaulting two white policepolicemen. policemen. Circuit J', 'on two white plainclothespolice policelast Feb. 27. Charged are', 'rren, Ohio. The two whiteofficerofficers were assaulted and one ', 'n, Ohio, and Pontiac. Thepolice policethey were assaulted when ', '. The defendants said thepolice policewere not in uniform and d', 'ings and helping securityofficerofficers officers stationed at t', 'there were seven securityofficerofficers on average in each high', ' Kettering High, two citypolice policeofficers officers also ar', ' on regular runs as well,Officer OfficerJerome Gray said. Police ', ' each school. How can twoofficerofficers officers handle 2,500 s', 'ment Sutton, chief fiscalofficer officerfor Detroit Public School', 'illiams, the two securityofficerofficers at Kettering, said occa', ' were stopped by securityofficerofficers or Principal William Jo'], Prediction: {'label': 'LABEL_1', 'score': 0.83560711145401}\n",
      "Text: ['incident oi a young navalofficer officerwho sat next to icm uii a', \"e across the street.' Theofficer officeraccepted. ... He noticed \", ' Association of Chiefs ofPolice Policein Detroit this week. Lef', ' International ConventionPolice Policeof Brazil, examines equip', 'of the Rhode Island StatePolicePolice, between sessions. Norma', ' sea service amonsr navalofficerofficers it was revealed that si', \"n Ac- ' tying commands bypolicepolicemen to cease meir vanoans\"], Prediction: {'label': 'LABEL_1', 'score': 0.5411058664321899}\n",
      "Text: ['ressed regret over son inpolice policeinterview Tresa Baidas an', 'ennifer Cmmbley said in apolice policesubstation hours after th'], Prediction: {'label': 'LABEL_0', 'score': 0.7341050505638123}\n",
      "Text: ['z HernanHernandez DetroitPolice PoliceChief James White provide'], Prediction: {'label': 'LABEL_0', 'score': 0.8108696341514587}\n",
      "Text: ['Whalley. A Polish militiaofficer officerplots the assas- tralian '], Prediction: {'label': 'LABEL_0', 'score': 0.8470091819763184}\n",
      "Text: [' 248-5&7092 MORTGAGE Loanofficerofficers, EARN 70 ON YOUR FILESI'], Prediction: {'label': 'LABEL_0', 'score': 0.7850580811500549}\n",
      "Text: ['stern union 4 across frompolice policestation Quick sale. $16,0'], Prediction: {'label': 'LABEL_0', 'score': 0.7241960763931274}\n",
      "Text: ['ent colds. Covington toldpolice policehis wife had taken a few '], Prediction: {'label': 'LABEL_0', 'score': 0.6993622183799744}\n",
      "Text: ['orcyclist being chased bypolice policewas killed in a crash. Th'], Prediction: {'label': 'LABEL_0', 'score': 0.7484216690063477}\n",
      "Text: ['ck num bers raid led ninepolicepolicemen on chase through the ', \"last Tuesday by Hamtramckpolice policepolice and Prosecutor's i\", \"ared. The three Hamtramckpolice policeand six Prosecutor's inve\", ' was reported reported topolicepolice, O SEN. FERGUSON was the', 'p, 14300 Livernois, afterpolice policedispersed a mob of 200 pi', ' UAW \"flying squad\" untilpolice policearrived. arrived. About 6', 'n Van Dyke had called forpolice policepolice assistance when a ', \"iking employee. employee.POLICE POLICESAID pickets' went to the\", 'e to disprove the charge.Police Policewere called when the pick', 'aptain disappeared beforepolice policearrived. arrived. Before ', 'ful picketing, picketing,police policesaid. They are members me', ' of the Dearborn DearbornPolice PoliceDepartment to become a ca'], Prediction: {'label': 'LABEL_1', 'score': 0.8433014750480652}\n",
      "Text: ['night and early Thursday,police policepolice reported. Officers'], Prediction: {'label': 'LABEL_0', 'score': 0.7084798812866211}\n",
      "Text: ['ghts and Clinton Townshippolice policewill join members members'], Prediction: {'label': 'LABEL_0', 'score': 0.8191052675247192}\n",
      "Text: ['een shot to death in whatpolice policebelieve may have been a n', ' of Ronald Smith, 20, whopolice policepolice said escaped from ', '6 Pinehurst. Friends toldpolice policethey last saw Brown Satur', 'the Highlands. Highlands.Police Policesaid the weekend hike was'], Prediction: {'label': 'LABEL_1', 'score': 0.8125876188278198}\n",
      "Text: ['oking tor a let OperatingOfficer OfficerChief Operating C for ove', 'n Tanner. Chief ExecutiveOfficer OfficerAccreditation Commission '], Prediction: {'label': 'LABEL_0', 'score': 0.8044825196266174}\n",
      "Text: ['the WDIV-TV report. UticaPolicePolice, in a statement Wednesda'], Prediction: {'label': 'LABEL_0', 'score': 0.8283213973045349}\n",
      "Text: ['ngle bullet in both arms,police policepolice said. One bullet w', 'g near the dying Edwards,police policesaid. A jury of sue women'], Prediction: {'label': 'LABEL_0', 'score': 0.5406557321548462}\n",
      "Text: ['nday after neighbors toldpolice policethey saw him trying to pu', 'oday. Because of his age,police policewould not identify the ar', \"d. The girl's family toldpolice policeshe had spent the night a\", 'ctice at a nearby church.POLICE POLICESAID the girl was last re', 'mdale. Three hours later,police policesaid, a woman who lives n', 'uted to onlookers to callpolice policeand held the youth until ', 'officerofficers arrived, homicide inves', ' the arrested youth, toldpolice policeshe believed her sister k', \"hin blocks of each other,police policesaid. Hoffa's Teamsters l\"], Prediction: {'label': 'LABEL_1', 'score': 0.8576498627662659}\n",
      "Text: [',\" found near by related,police policepolice said, that doctors'], Prediction: {'label': 'LABEL_0', 'score': 0.6409265398979187}\n",
      "Text: ['on. According to New Yorkpolicepolice, Ortiz approached a boy ', 'BY MARK BELTAIRE : AT THEPOLICE POLICEField Day dinner, dinner,', 'yne State when the Koreanpolice policepolice action, then the a'], Prediction: {'label': 'LABEL_1', 'score': 0.5080479383468628}\n",
      "Text: ['ndle being stopped by thepolicepolice. This was not something '], Prediction: {'label': 'LABEL_0', 'score': 0.8212896585464478}\n",
      "Text: [', an economic developmentofficer officerin Windsor Mayor John Mil'], Prediction: {'label': 'LABEL_0', 'score': 0.8279020190238953}\n",
      "Text: [' the samples recovered bypolice policewere renmants of a previo'], Prediction: {'label': 'LABEL_0', 'score': 0.844096302986145}\n",
      "Text: ['ROMISES TO CHALLENGE MOVEPolice PoliceOpen Drive Against Sticke', 'rs on Car Police Policestarted late Monday to ti', ' my car and drive down topolice policeheadquarters,\" headquarte', 'e, Emily, 33, with clubs,police policereported. Zolkowski said ', 'ase Mayor Van Antwerp andPolice PoliceCommissioner Harry S. Toy', ' held under $10,000 bond.POLICE POLICESAID that Judge had swind', 'dge presented presented apolice policebadge and represented rep', 'ion recommendation of thePolice PoliceDepartment. Department. N', 'nted on the fact that thePolice PoliceDepartment used to give m', 'ed by joint UAW (CIO) andpolice policeeffort. Monday production', 'Escapes with $13,000 LootPolice Policeare seeking three masked ', 'ed the door and summondedpolicepolice. i f 1tsp- lor Cobo Says', 'er, 42, of Rockford, 111.OFFICEROFFICERS SAID that Miller had pl'], Prediction: {'label': 'LABEL_1', 'score': 0.8390984535217285}\n",
      "Text: ['9160 Yonka, was not held.Police Policesaid the child apparently', \"ruck ' him and sped away.Police Policefound fragments of a shat\", 'otver LONDON (JP) A Dutchofficerofficer, officer, member of the ', 'hheld the identity of theofficerofficer, who crossed to Allied l', 'ood order, order, but theofficer officerwas watched by intelligen', 'd said, Christian.\" StatePolice Policenad stopped the youth dri', ' murder weapon is said bypolice policeto have been a castiron f', 'fter the murder. However,officerofficers were anxious to know if', 'was committed. Elvin toldpolice policethe dog was , barking wil'], Prediction: {'label': 'LABEL_1', 'score': 0.8503513336181641}\n",
      "Text: ['ite Sign. LAYS SLAYING TOPOLICE POLICEDUTY AS RUM TASTER GIRL C', ' the heads of the DetroitPolice PoliceDepartment, The Detroit F', ' streets of the city. Thepolice policedepartment, through Super', 's will be accepted by allpolice policeofficials as proof that t', 'any motorcycle or traflioofficer officerstopping his car before b', 'nd delay that must of thepolice policein the drive being a The ', ' inspection work of theseofficerofficers is revealing danger. ou', ' other parts. To dste thepolice policedepartment bas been follo', ' at a deiperatelv terloutpolice policedrive. with the result th', ' and the new order to thepolice policeofficers engaged in the e', 'tion of Jurors Difficult.PolicePolicemen working as members of', 'ed to the Trumbull avenuepolice policestation, was a member of ', 'ursday. The theory that apolicepoliceman Is likely to become I', 'have the moral support ofPolice PoliceCommissioner Commissioner', 'o custody. But before theofficer officerhad gotten under way the ', 'lso left for Jenkins, butofficerofficers were unable to find any', ' cream was discovered theofficerofficers rushed Into the street,', 'entucky, and ststs henlthofficerofficer. Ksntucky. Announcements'], Prediction: {'label': 'LABEL_1', 'score': 0.8498755097389221}\n",
      "Text: ['nsand ChiefAdministrativeOfficer OfficerHelgaRoidel discussthe co'], Prediction: {'label': 'LABEL_0', 'score': 0.8345105051994324}\n",
      "Text: ['tion died Thursday at thePolice PoliceDog Pound. Rabies tests w', 'ticed the smoke,\" he toldpolicepolice. \"I got my clothes on an', 'Want Ads: WOODWARD 2-8400Police PoliceShots Fail to Halt Boy \"W', 'er was pursued by Detroitpolicepolice. Sgt. Vincent Romano, of', ' the Warren Township policepolice, said Mrs. Lydia Kida, 3', 'ess foot. Davison Stationpolice policesaid he would be turned o', 'Dequindre and Eight Mile.Police Policesaid the car had been bor', 'of mourning. 11 Seized inPolice PoliceDope Raid W Warren Poolro', 'nter of the dope traffic.Police Policeof the Narcotics Bureau, ', '. Maurer Trail Cold AgainPolice Policefound no trace of fugitiv', 'ivemois and Michigan. Butpolice policetheorized he might have b'], Prediction: {'label': 'LABEL_1', 'score': 0.8563697934150696}\n",
      "Text: ['lement involvinginvolvingOfficer OfficerWalt Harris, w???hoaccept', '???s actions on the nightpolice policearrestedarrested him on d', 'imilaritiesw?here Pontiacpolice policeand MichiganState Police '], Prediction: {'label': 'LABEL_1', 'score': 0.6141693592071533}\n",
      "Text: [\"edoman's Mate Chief PettyOfficer OfficerThomas Falconer, son of H\", 'rmy basic noncommissionedofficer officercourse. He is a cavalry s', \"e Air National Guard BaseOfficerOfficers' Club. Art: 294-2002; 2\"], Prediction: {'label': 'LABEL_0', 'score': 0.6776180267333984}\n",
      "Text: [\"or's Prosecutor's Office.Police Policeconsider Ingram a prime s\"], Prediction: {'label': 'LABEL_0', 'score': 0.7806825637817383}\n",
      "Text: ['Money Can\\'t Buy,\" Britishofficer officerfinds postwar postwar Bri', 'Frank Lovejoy In drama afpolicepoliceman taking criminal to an', 'sreel: Sky scooters, realpolice policedog, fun with paper; Spin', 'e Division of the DetroitPolice PoliceDepartment. 9:00 P.M. Hi,'], Prediction: {'label': 'LABEL_0', 'score': 0.5783067941665649}\n",
      "Text: ['issed his eyes. RACETRACKPOLICE POLICEnow have concealed camera', \"1 ' v l NOTICE THE COMELYpolicepolicewoman, Gerry Craanen, new\", ' addition to the Detroit police policeforce, getting her instru', 'A. Patton. AND NOW NOTICEPolicePolicewoman Craanen whipping in', 'o failed. After two hourspolice policewere called, and six poli'], Prediction: {'label': 'LABEL_1', 'score': 0.7368201017379761}\n",
      "Text: ['t Insurance companies andpolice policeIn securing the necessary'], Prediction: {'label': 'LABEL_0', 'score': 0.8097256422042847}\n",
      "Text: ['ce for Deal (TDD)222-2578OFFICEROFFICERS Frank J. Vega. Presiden'], Prediction: {'label': 'LABEL_0', 'score': 0.8189327120780945}\n",
      "Text: ['rrangements. 20TH CENTURYOfficerOfficers and committee chairmen '], Prediction: {'label': 'LABEL_0', 'score': 0.8342660069465637}\n",
      "Text: ['??Welcome City of DetroitPolicePolice/Fire Dept. $50.00 PerMon', 'grout Shtna A Glow again.Officer Officer313-389-8008Office 2 734 '], Prediction: {'label': 'LABEL_0', 'score': 0.5863586068153381}\n",
      "Text: ['ylvania, TMZ.com reports.Police Policeare investigating investi'], Prediction: {'label': 'LABEL_0', 'score': 0.8168003559112549}\n",
      "Text: ['from Warsaw. Ecorse OustsPolice PoliceChief Pending a Removal H', 'ight suspended Chief of .Police PoliceGeorge A. Moore from of-,', \"cations. I am ins'ructirgofficer officerof the criminal Inves'iga\", ' branch of the Provincialpolice policeto investigate investigat', 'eny, taken to the Torontopolice policestation, said: \"If he\\'s d'], Prediction: {'label': 'LABEL_1', 'score': 0.5736120343208313}\n",
      "Text: ['dson, of the HarbormasterPolicePolice, would like to know. Six', 'LINGS were turned over topolice policeby William Agnew, 40, of '], Prediction: {'label': 'LABEL_0', 'score': 0.716734766960144}\n",
      "Text: ['right to permit that. Thepolicepolice\" Til take the responsibi', ' fact, I was (.and If thepolice policefound out, if the sheriff'], Prediction: {'label': 'LABEL_0', 'score': 0.748701810836792}\n",
      "Text: ['urw, . .01, 10:30 p. m. \"Officer Officerand the Ladj,\" 8:06 p. m.', ' al.t Ritkill. H.dio in \"OFFICER OFFICERAND IHfc IADT\" HOME\" 6424', \"v nnrntiiP nrwui di P'THEOFFICER OFFICERAND THE LADY' 1 1 V ll 1 \"], Prediction: {'label': 'LABEL_0', 'score': 0.6127452850341797}\n",
      "Text: ['d like to be a fireman, apolice policeofficer, an airline pilot', 'Hospital, Grand Rapids. .Police Policewere holding James E. Har', 'e told Crystler and StatePolice PoliceDetective Thomas Krus-hia', \"room. 4 ' . I HARRIS TOLDpolice policehe was irunk and said he \", ' m The elderly woman toldpolice policelhat \"she stumbled into h', ' afire - on her property,police policesaid. Police said Harris ', ' an odd-jobs worker, toldpolice policehe had three previous arr', ' the Army for attacking apolicepoliceman. policeman. He said h', 'l, of Lansing, operationsofficer officerfor Michigan Civil Defens', 'rth of New Buffalo, StatePolice Policesaid. Sexton, walking in ', \"second boy, also 16, toldpolice policehe heard Sexton's Sexton'\"], Prediction: {'label': 'LABEL_1', 'score': 0.8434057235717773}\n",
      "Text: ['andotte General Hospital.Police Policesaid the crossing was mar', \" News boys and the City'spolice policeforce will pound the pave\", 'ow fund. - Led by MountedPolice Police: and the Detroit Federat', 'sist the Old Newsboys andpolice police, in . the paper Sale. . ', 'e needy on Dec. 24 by thepolice policeand Boy Scouts, Toys.-sho', 'company has lost or com -OfficerOfficers said Woods tried to pie'], Prediction: {'label': 'LABEL_1', 'score': 0.7985450625419617}\n",
      "Text: ['an. Election of temporaryofficerofficers of the convention. Sele'], Prediction: {'label': 'LABEL_0', 'score': 0.8364356160163879}\n",
      "Text: ['s (ivi4: PokceChiaesnvii.Police PoliceChases tvm) Pets Go Bad ?'], Prediction: {'label': 'LABEL_0', 'score': 0.8040734529495239}\n",
      "Text: ['ll 961-3211 Call 961-4422Police Policehunt suspect in 3 Macomb ', 's. The sketch was sent topolice policeagencies agencies in comm', 'g Sup, 17, remained underpolice policeguard in two area hospita', 'so was shot in the chest,police policesaid. Byung was in critic', \"ded condition at another.Police Policesaid the Kims' grandson, \", 'roit, investigators said.Police Policedeclined to provide any S', 'public utilities, Detroitpolice policeand fire departments, the'], Prediction: {'label': 'LABEL_1', 'score': 0.8046490550041199}\n",
      "Text: ['i i n ii i . i ii m- ii 1Police Policereporter Jack Schcrnerbor', 'orn. SCHERMERHORN WAS THEPOLICE POLICERE-porter RE-porter and w', 'ondsmen and bank robbers,police policeofficials and contract ki'], Prediction: {'label': 'LABEL_0', 'score': 0.6624255180358887}\n",
      "Text: [' were no fire engines andpolice policesirens and burglar alarms'], Prediction: {'label': 'LABEL_0', 'score': 0.7606263756752014}\n",
      "Text: [' a totalitarian regime orpolice policestate exist If a majority'], Prediction: {'label': 'LABEL_0', 'score': 0.8358715772628784}\n",
      "Text: ['e, the Johnstown Chief ofPolice Policesays that no membert of t', 'children in Michigan. Thepolice policecan act only after the fi', 'arnest effort made by thepolice policeand the traffic judges it', 'ope brothers were regularofficerofficers. I was a wartime observ'], Prediction: {'label': 'LABEL_0', 'score': 0.6218886971473694}\n",
      "Text: ['(248) 827-8553 COMPLIANCEOFFICER OFFICERS25.00-S30.00 per hour. A'], Prediction: {'label': 'LABEL_0', 'score': 0.7829222679138184}\n",
      "Text: ['hootingshooting a villageofficer officerin bothhands was adjourne', 'Reed on Sept. 20 when theofficer officerand his partner responded', 'e Home Park inNew? Haven.Police Policerelease sketch ofman who ', 'umped, diedMichigan SuitePolice Policehavereleased a composite ', 'tion easeA former Detroitpolicepoliceofficer was sentenced Mon', 'rst the city???s longtimepolice policechief left. Now Farmingto', 'iam Dwyerleft his post aspolice policechief tobecome the police'], Prediction: {'label': 'LABEL_1', 'score': 0.7548243999481201}\n",
      "Text: ['PORTED SEIZED NEAR BERLINPolice PoliceFoil Escape Of 11 Red MiG', 'turday that Soviet secretpolice policehave arrested 11 Russian ', 'f Drive Wild Ride Ends asPolice PoliceShoot Out Tires of Car BY', 'rom the Grand Haven StatePolice Policepost, the guard, Frank Pf', 'e January when 17 Russianofficerofficers and engineers were arre', ' Fruitport when two StatePolice Policetroopers, pursuing pursui', 'e 6, Column 4 Haven StatePolice Policepost. Troopers Dave Yerbu', ' going to a convention ofpolice policechiefs in Harbor Springs,', 'e received $500, too. Thepolice policechief of Ecorse also went', ' to the Police PoliceChiefs convention. conven', 'day night. A high rankingofficer officersaid the alert was a \"pre', \"l grade, a senior Italianofficer officerat udme' Baid part of one\", 'ounced for the alert. Oneofficer officerImplied, however, however'], Prediction: {'label': 'LABEL_1', 'score': 0.8120157122612}\n",
      "Text: [' opportunity em ployer. -POLICEPOLICEMEN To work part time & h', 'ING&SNELLING agy SECURITYPOLICE POLICEAn 91 fn 50. full time av'], Prediction: {'label': 'LABEL_0', 'score': 0.7510017156600952}\n",
      "Text: ['rly Buggs, of the PontiacPolice PoliceDepartment, drank 5.9 oun', 'irf Buggs\\' \"dry partner,\"Officer OfficerMike Story, of Pontiac, e', 'on. ON THE FIRST DAY, theofficerofficers receive basic informati', 'pect of the training. Theofficerofficers become inebriated to \"e', ' get sauced. \"Some of theofficerofficers react with amazement an', 'heir tipsy comrades. \"Theofficerofficers are quite surprised,\" s', 'nk.\" On the third day theofficerofficers switch roles. Tomczak s'], Prediction: {'label': 'LABEL_1', 'score': 0.547512948513031}\n",
      "Text: ['way Patrol Highway Patrolofficer officerrefuses to help capture c'], Prediction: {'label': 'LABEL_0', 'score': 0.8114403486251831}\n",
      "Text: ['at it doesn’t have enoughpolice policeofficers to keep the city', 'to hire the needed neededofficerofficers. You can ride this ride', 't Brenda Jones and formerpolice policeexecutive Gary Brown coul', 'ations,? he said. Romuluspolice policeescorted Sola from the me', 'DETROIT MEDIA PARTNERSHIPOFFICEROFFICERS Susie EBwood, Chief Exe'], Prediction: {'label': 'LABEL_1', 'score': 0.5974143147468567}\n",
      "Text: [' Mt. Pleasant with a Navyofficerofficer, probably for keeps. Whe', 'hild was spotted by StatePolicePoliceman Beril Fromberg and Co'], Prediction: {'label': 'LABEL_0', 'score': 0.7378702163696289}\n",
      "Text: ['a to their old commandingofficer officerofficer whose business is'], Prediction: {'label': 'LABEL_0', 'score': 0.8226171731948853}\n",
      "Text: ['ate dean The top academicofficer officerat Wayne State University', 'name his own top academicofficerofficer, Haenicke reasoned. reas', 'unidentified unidentifiedpolicepolicemen. TITLES Emparor -Kais', 'the complaint, complaint,police policearrested Decarli without '], Prediction: {'label': 'LABEL_0', 'score': 0.63273024559021}\n",
      "Text: ['MEN PEO Sisterhood ElectsOfficerOfficers ANN LANDERS i i m n 1 J', 'l ceT(fM lYtt Ail T 1 Newofficerofficer! of ..the Michigan Michi'], Prediction: {'label': 'LABEL_0', 'score': 0.7722504138946533}\n",
      "Text: ['bed the city building andpolice policeand fire stations as ?gor', ' run down and ransacked.?POLICE POLICEI Highland Park station?s', 'n application to become apolice policeofficer officer in Highla', ' from the Highland 1 ’arkPolice PoliceOfficer?s Association I t', 'r near the froi it of thepolice policej station opened with a s', '30-year ca| ca| reer as apolice policeofficer at the building o', 'ith what we have.? He Thepolice policeheadquarters building “sh', 'RT YOPP, who u irked as apolice policeofficer for 30 vears in t', 'm a The old Highland ParkPolice PoliceHeadquarters is still sta', 'mbling building. said thepolice policedepartment typically typi', ' The current current citypolice policeand municipal offices off', 'ntly recently spoken withPolice PoliceChief Theodore Cadwell II', 'ome city departments. Thepolice policepolice department has 65 ', 'officerofficers, down from 170 in 2005.', 'ell said he w ould directofficerofficers to assess how they coul', 'lls and one visit to l hepolice policestal ion to contact Cadwe', 'sheriffs office and statepolice policehandled handled policing ', 'mployee and former owmer.Police Policesaid they both bought and'], Prediction: {'label': 'LABEL_1', 'score': 0.8057567477226257}\n",
      "Text: ['1-800alcfiyowWANTSECURITYOFFICEROFFICERSARMED Must have ownP un '], Prediction: {'label': 'LABEL_0', 'score': 0.8264303803443909}\n",
      "Text: ['r Women. The jury of fourofficerofficers and four enlisted men w'], Prediction: {'label': 'LABEL_0', 'score': 0.8401517868041992}\n",
      "Text: ['BOSS -AND HAVE Hl GET THEPOLICE POLICENO. WAIT . iVe-yes-iVe SE'], Prediction: {'label': 'LABEL_0', 'score': 0.814169704914093}\n",
      "Text: ['n-law would not cover andpolice policebegan moving in on Remlin', 'and selling it elsewhere.Police Policefinally arrested Remling,', 'slie where they met Statepolicepolice. Trooper Flower, in an u', 'rters outside the State \"Police Police-post after his arrest. $', ' helicopter hijacker. Lawofficerofficers said Colosky and Hill f', 'after the breakout. Localpolice policeand FBI agents made two n', 'rved s a getaway vehicle,police policesaid. She was arrested in', 'a downtown Lansing motel,police policesaid. According to Remlin', 'iding in an escape, statepolice policeat Jackson said. The FBI ', 'ay that the FRI and otherpolice policeagencies have pieced toge'], Prediction: {'label': 'LABEL_1', 'score': 0.8573735356330872}\n",
      "Text: ['lligh School student toldpolice policepolice she was forced fro', \"icials from the Detroit .Police PoliceDepartment's sex ; crimes\", 'g the teen late Thursday.Police Policeare not certain why the g', 'nte of the Michigan StatePolice PoliceBrighton post. \"In and of', 'ts residents called localpolice policedepartments departments a', 'nd the State Police Policeto complain about the fly'], Prediction: {'label': 'LABEL_1', 'score': 0.7057197093963623}\n"
     ]
    }
   ],
   "source": [
    "clf = TextClassificationPipeline(model=model, tokenizer=tokenizer)\n",
    "\n",
    "results = clf(sample['text'])\n",
    "\n",
    "for text, result in zip(sample['text'], results):\n",
    "    print(f\"Text: {text}, Prediction: {result}\")"
   ]
  },
  {
   "cell_type": "code",
   "execution_count": null,
   "id": "f985421c",
   "metadata": {},
   "outputs": [],
   "source": [
    "print(results)"
   ]
  },
  {
   "cell_type": "code",
   "execution_count": 12,
   "id": "689101a1",
   "metadata": {},
   "outputs": [
    {
     "data": {
      "text/html": [
       "<div>\n",
       "<style scoped>\n",
       "    .dataframe tbody tr th:only-of-type {\n",
       "        vertical-align: middle;\n",
       "    }\n",
       "\n",
       "    .dataframe tbody tr th {\n",
       "        vertical-align: top;\n",
       "    }\n",
       "\n",
       "    .dataframe thead th {\n",
       "        text-align: right;\n",
       "    }\n",
       "</style>\n",
       "<table border=\"1\" class=\"dataframe\">\n",
       "  <thead>\n",
       "    <tr style=\"text-align: right;\">\n",
       "      <th></th>\n",
       "      <th>label</th>\n",
       "      <th>score</th>\n",
       "    </tr>\n",
       "  </thead>\n",
       "  <tbody>\n",
       "    <tr>\n",
       "      <th>0</th>\n",
       "      <td>LABEL_0</td>\n",
       "      <td>0.774650</td>\n",
       "    </tr>\n",
       "    <tr>\n",
       "      <th>1</th>\n",
       "      <td>LABEL_0</td>\n",
       "      <td>0.829418</td>\n",
       "    </tr>\n",
       "    <tr>\n",
       "      <th>2</th>\n",
       "      <td>LABEL_0</td>\n",
       "      <td>0.722902</td>\n",
       "    </tr>\n",
       "    <tr>\n",
       "      <th>3</th>\n",
       "      <td>LABEL_0</td>\n",
       "      <td>0.794227</td>\n",
       "    </tr>\n",
       "    <tr>\n",
       "      <th>4</th>\n",
       "      <td>LABEL_0</td>\n",
       "      <td>0.804924</td>\n",
       "    </tr>\n",
       "  </tbody>\n",
       "</table>\n",
       "</div>"
      ],
      "text/plain": [
       "     label     score\n",
       "0  LABEL_0  0.774650\n",
       "1  LABEL_0  0.829418\n",
       "2  LABEL_0  0.722902\n",
       "3  LABEL_0  0.794227\n",
       "4  LABEL_0  0.804924"
      ]
     },
     "execution_count": 12,
     "metadata": {},
     "output_type": "execute_result"
    }
   ],
   "source": [
    "df = pd.DataFrame.from_dict(results)\n",
    "df.head()"
   ]
  },
  {
   "cell_type": "code",
   "execution_count": 13,
   "id": "aa508f5c",
   "metadata": {},
   "outputs": [
    {
     "data": {
      "text/html": [
       "<div>\n",
       "<style scoped>\n",
       "    .dataframe tbody tr th:only-of-type {\n",
       "        vertical-align: middle;\n",
       "    }\n",
       "\n",
       "    .dataframe tbody tr th {\n",
       "        vertical-align: top;\n",
       "    }\n",
       "\n",
       "    .dataframe thead th {\n",
       "        text-align: right;\n",
       "    }\n",
       "</style>\n",
       "<table border=\"1\" class=\"dataframe\">\n",
       "  <thead>\n",
       "    <tr style=\"text-align: right;\">\n",
       "      <th></th>\n",
       "      <th>Unnamed: 0</th>\n",
       "      <th>GOID</th>\n",
       "      <th>Title</th>\n",
       "      <th>Text</th>\n",
       "      <th>Date</th>\n",
       "      <th>segment_25</th>\n",
       "      <th>segment_50</th>\n",
       "      <th>label</th>\n",
       "      <th>score</th>\n",
       "    </tr>\n",
       "  </thead>\n",
       "  <tbody>\n",
       "    <tr>\n",
       "      <th>0</th>\n",
       "      <td>990</td>\n",
       "      <td>1818420866</td>\n",
       "      <td>May 30, 1961 (Page 15 of 20)</td>\n",
       "      <td>Death Notice NIAKHAKOS POTA, 43, of J9M Lakawo...</td>\n",
       "      <td>1961-05-30</td>\n",
       "      <td>['7:30 p.m. to 9 p.m. TITLEOFFICER OFFICERA Ti...</td>\n",
       "      <td>['U 1-5640. Call Wednesday 7:30 p.m. to 9 p.m....</td>\n",
       "      <td>LABEL_0</td>\n",
       "      <td>0.774650</td>\n",
       "    </tr>\n",
       "    <tr>\n",
       "      <th>1</th>\n",
       "      <td>12645</td>\n",
       "      <td>1816373616</td>\n",
       "      <td>April 11, 1937 (Page 64 of 128)</td>\n",
       "      <td>14 THE DETROIT FREE PRESS SUNDAY. APRIL II. HJ...</td>\n",
       "      <td>1937-04-11</td>\n",
       "      <td>['ork April 15 to elect theofficerofficer. The...</td>\n",
       "      <td>['latter will meet in New York April 15 to ele...</td>\n",
       "      <td>LABEL_0</td>\n",
       "      <td>0.829418</td>\n",
       "    </tr>\n",
       "    <tr>\n",
       "      <th>2</th>\n",
       "      <td>20558</td>\n",
       "      <td>1822566298</td>\n",
       "      <td>June 14, 1984 (Page 12 of 246)</td>\n",
       "      <td>12A DETROIT FREE PRESSTHURSDAY, JUNE 14, 1984 ...</td>\n",
       "      <td>1984-06-14</td>\n",
       "      <td>['MEANWHILE, in Amritsar, apolice policeoffici...</td>\n",
       "      <td>['the holiest Sikh shrine. MEANWHILE, in Amrit...</td>\n",
       "      <td>LABEL_0</td>\n",
       "      <td>0.722902</td>\n",
       "    </tr>\n",
       "    <tr>\n",
       "      <th>3</th>\n",
       "      <td>21480</td>\n",
       "      <td>1816748409</td>\n",
       "      <td>August 12, 1945 (Page 3 of 88)</td>\n",
       "      <td>Ace Red Chiefs WTio Beat Nazis Direct War on J...</td>\n",
       "      <td>1945-08-12</td>\n",
       "      <td>['Sam\" Bernstein, both withpolice policerecord...</td>\n",
       "      <td>['es that Louis and \"Black Sam\" Bernstein, bot...</td>\n",
       "      <td>LABEL_0</td>\n",
       "      <td>0.794227</td>\n",
       "    </tr>\n",
       "    <tr>\n",
       "      <th>4</th>\n",
       "      <td>23052</td>\n",
       "      <td>1822832574</td>\n",
       "      <td>November 16, 1987 (Page 46 of 92)</td>\n",
       "      <td>6D DETROIT FREE PRESSMONDAY, NOVEMBER new busi...</td>\n",
       "      <td>1987-11-16</td>\n",
       "      <td>[' Ohio 45891-0151 SECURITYOFFICEROFFICERS $30...</td>\n",
       "      <td>['NY P.O. Box 151 Van Wert, Ohio 45891-0151 SE...</td>\n",
       "      <td>LABEL_0</td>\n",
       "      <td>0.804924</td>\n",
       "    </tr>\n",
       "  </tbody>\n",
       "</table>\n",
       "</div>"
      ],
      "text/plain": [
       "   Unnamed: 0        GOID                              Title  \\\n",
       "0         990  1818420866       May 30, 1961 (Page 15 of 20)   \n",
       "1       12645  1816373616    April 11, 1937 (Page 64 of 128)   \n",
       "2       20558  1822566298     June 14, 1984 (Page 12 of 246)   \n",
       "3       21480  1816748409     August 12, 1945 (Page 3 of 88)   \n",
       "4       23052  1822832574  November 16, 1987 (Page 46 of 92)   \n",
       "\n",
       "                                                Text        Date  \\\n",
       "0  Death Notice NIAKHAKOS POTA, 43, of J9M Lakawo...  1961-05-30   \n",
       "1  14 THE DETROIT FREE PRESS SUNDAY. APRIL II. HJ...  1937-04-11   \n",
       "2  12A DETROIT FREE PRESSTHURSDAY, JUNE 14, 1984 ...  1984-06-14   \n",
       "3  Ace Red Chiefs WTio Beat Nazis Direct War on J...  1945-08-12   \n",
       "4  6D DETROIT FREE PRESSMONDAY, NOVEMBER new busi...  1987-11-16   \n",
       "\n",
       "                                          segment_25  \\\n",
       "0  ['7:30 p.m. to 9 p.m. TITLEOFFICER OFFICERA Ti...   \n",
       "1  ['ork April 15 to elect theofficerofficer. The...   \n",
       "2  ['MEANWHILE, in Amritsar, apolice policeoffici...   \n",
       "3  ['Sam\" Bernstein, both withpolice policerecord...   \n",
       "4  [' Ohio 45891-0151 SECURITYOFFICEROFFICERS $30...   \n",
       "\n",
       "                                          segment_50    label     score  \n",
       "0  ['U 1-5640. Call Wednesday 7:30 p.m. to 9 p.m....  LABEL_0  0.774650  \n",
       "1  ['latter will meet in New York April 15 to ele...  LABEL_0  0.829418  \n",
       "2  ['the holiest Sikh shrine. MEANWHILE, in Amrit...  LABEL_0  0.722902  \n",
       "3  ['es that Louis and \"Black Sam\" Bernstein, bot...  LABEL_0  0.794227  \n",
       "4  ['NY P.O. Box 151 Van Wert, Ohio 45891-0151 SE...  LABEL_0  0.804924  "
      ]
     },
     "execution_count": 13,
     "metadata": {},
     "output_type": "execute_result"
    }
   ],
   "source": [
    "df2 = pd.read_csv('validation_data.csv')\n",
    "evals = pd.concat([df2,df], axis=1)\n",
    "evals.head()\n"
   ]
  },
  {
   "cell_type": "code",
   "execution_count": 14,
   "id": "a1c27fa5",
   "metadata": {},
   "outputs": [],
   "source": [
    "evals.to_csv(\"bert25_evals.txt\", index=False)"
   ]
  },
  {
   "cell_type": "code",
   "execution_count": 15,
   "id": "ad41da3d",
   "metadata": {},
   "outputs": [],
   "source": [
    "data_to_export = \"bert25_evals.txt\""
   ]
  },
  {
   "cell_type": "code",
   "execution_count": 16,
   "id": "35ab12cb",
   "metadata": {},
   "outputs": [
    {
     "name": "stdout",
     "output_type": "stream",
     "text": [
      "upload: ./bert25_evals.txt to s3://pq-tdm-studio-results/tdm-ale-data/a2535/results/bert25_evals.txt\n"
     ]
    }
   ],
   "source": []
  },
  {
   "cell_type": "code",
   "execution_count": null,
   "id": "2d5525a4",
   "metadata": {},
   "outputs": [],
   "source": []
  },
  {
   "cell_type": "code",
   "execution_count": null,
   "id": "b0f5fb5b",
   "metadata": {},
   "outputs": [],
   "source": []
  }
 ],
 "metadata": {
  "kernelspec": {
   "display_name": "conda_python3",
   "language": "python",
   "name": "conda_python3"
  },
  "language_info": {
   "codemirror_mode": {
    "name": "ipython",
    "version": 3
   },
   "file_extension": ".py",
   "mimetype": "text/x-python",
   "name": "python",
   "nbconvert_exporter": "python",
   "pygments_lexer": "ipython3",
   "version": "3.10.16"
  }
 },
 "nbformat": 4,
 "nbformat_minor": 5
}
