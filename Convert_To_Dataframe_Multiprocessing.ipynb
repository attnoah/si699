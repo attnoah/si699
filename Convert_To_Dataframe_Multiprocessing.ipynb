{
 "cells": [
  {
   "cell_type": "markdown",
   "metadata": {},
   "source": [
    "## Import Libraries"
   ]
  },
  {
   "cell_type": "code",
   "execution_count": 1,
   "metadata": {},
   "outputs": [
    {
     "ename": "ModuleNotFoundError",
     "evalue": "No module named 'lxml'",
     "output_type": "error",
     "traceback": [
      "\u001b[0;31m---------------------------------------------------------------------------\u001b[0m",
      "\u001b[0;31mModuleNotFoundError\u001b[0m                       Traceback (most recent call last)",
      "Cell \u001b[0;32mIn[1], line 2\u001b[0m\n\u001b[1;32m      1\u001b[0m \u001b[38;5;66;03m# Libraries for parsing data\u001b[39;00m\n\u001b[0;32m----> 2\u001b[0m \u001b[38;5;28;01mfrom\u001b[39;00m\u001b[38;5;250m \u001b[39m\u001b[38;5;21;01mlxml\u001b[39;00m\u001b[38;5;250m \u001b[39m\u001b[38;5;28;01mimport\u001b[39;00m etree\n\u001b[1;32m      3\u001b[0m \u001b[38;5;28;01mfrom\u001b[39;00m\u001b[38;5;250m \u001b[39m\u001b[38;5;21;01mbs4\u001b[39;00m\u001b[38;5;250m \u001b[39m\u001b[38;5;28;01mimport\u001b[39;00m BeautifulSoup\n\u001b[1;32m      4\u001b[0m \u001b[38;5;28;01mimport\u001b[39;00m\u001b[38;5;250m \u001b[39m\u001b[38;5;21;01mpandas\u001b[39;00m\u001b[38;5;250m \u001b[39m\u001b[38;5;28;01mas\u001b[39;00m\u001b[38;5;250m \u001b[39m\u001b[38;5;21;01mpd\u001b[39;00m\n",
      "\u001b[0;31mModuleNotFoundError\u001b[0m: No module named 'lxml'"
     ]
    }
   ],
   "source": [
    "# Libraries for parsing data\n",
    "from lxml import etree\n",
    "from bs4 import BeautifulSoup\n",
    "import pandas as pd\n",
    "import os\n",
    "\n",
    "# Libraries for multiprocessing\n",
    "import multiprocessing as mp\n",
    "from multiprocessing import Pool"
   ]
  },
  {
   "cell_type": "markdown",
   "metadata": {},
   "source": [
    "## Load Data"
   ]
  },
  {
   "cell_type": "code",
   "execution_count": 6,
   "metadata": {},
   "outputs": [
    {
     "name": "stdout",
     "output_type": "stream",
     "text": [
      "Loaded 563599 documents.\n"
     ]
    }
   ],
   "source": [
    "# Set corpus to the folder of files you want to use\n",
    "corpus = '/home/ec2-user/SageMaker/data/Police_or_Officer_ALL/'\n",
    "\n",
    "# Read in files\n",
    "input_files = os.listdir(corpus)\n",
    "\n",
    "print(\"Loaded\", len(input_files), \"documents.\")"
   ]
  },
  {
   "cell_type": "markdown",
   "metadata": {},
   "source": [
    "## Specify Output File\n",
    "\n",
    "Define the `output_file` variable to the desired save location and file name. This variable will be used at the end of the script to save the processed data."
   ]
  },
  {
   "cell_type": "code",
   "execution_count": 7,
   "metadata": {},
   "outputs": [],
   "source": [
    "# Modify output_file to desired save name\n",
    "output_file = 'Convert_To_Dataframe_Police_all.csv'"
   ]
  },
  {
   "cell_type": "markdown",
   "metadata": {},
   "source": [
    "## Check Total Cores\n",
    "\n",
    "Check the total number of cores on your current device. The following multiprocessing portions will be using this variable."
   ]
  },
  {
   "cell_type": "code",
   "execution_count": 8,
   "metadata": {},
   "outputs": [
    {
     "name": "stdout",
     "output_type": "stream",
     "text": [
      "8\n"
     ]
    }
   ],
   "source": [
    "# Check core count\n",
    "num_cores = mp.cpu_count()\n",
    "print(num_cores)"
   ]
  },
  {
   "cell_type": "markdown",
   "metadata": {},
   "source": [
    "## Define Functions"
   ]
  },
  {
   "cell_type": "code",
   "execution_count": 9,
   "metadata": {},
   "outputs": [],
   "source": [
    "# Function to strip html tags from text portion\n",
    "def strip_html_tags(text):\n",
    "    stripped = BeautifulSoup(text).get_text().replace('\\n', ' ').replace('\\\\', '').strip()\n",
    "    return stripped"
   ]
  },
  {
   "cell_type": "code",
   "execution_count": 10,
   "metadata": {},
   "outputs": [],
   "source": [
    "# Retrieve metadata from XML document\n",
    "def getxmlcontent(corpus, file, strip_html=True):\n",
    "    try:\n",
    "        tree = etree.parse(corpus + file)\n",
    "        root = tree.getroot()\n",
    "\n",
    "        if root.find('.//GOID') is not None:\n",
    "            goid = root.find('.//GOID').text\n",
    "        else:\n",
    "            goid = None\n",
    "\n",
    "        if root.find('.//Title') is not None:\n",
    "            title = root.find('.//Title').text\n",
    "        else:\n",
    "            title = None\n",
    "\n",
    "        if root.find('.//NumericDate') is not None:\n",
    "            date = root.find('.//NumericDate').text\n",
    "        else:\n",
    "            date = None\n",
    "            \n",
    "        if root.find('.//PublisherName') is not None:\n",
    "            publisher = root.find('.//PublisherName').text\n",
    "        else:\n",
    "            publisher = None\n",
    "\n",
    "        if root.find('.//FullText') is not None:\n",
    "            text = root.find('.//FullText').text\n",
    "\n",
    "        elif root.find('.//HiddenText') is not None:\n",
    "            text = root.find('.//HiddenText').text\n",
    "\n",
    "        elif root.find('.//Text') is not None:\n",
    "            text = root.find('.//Text').text\n",
    "\n",
    "        else:\n",
    "            text = None\n",
    "\n",
    "        # Strip html from text portion\n",
    "        if text is not None and strip_html == True:\n",
    "            text = strip_html_tags(text)\n",
    "    \n",
    "    except Exception as e:\n",
    "        print(f\"Error while parsing file {file}: {e}\")\n",
    "    \n",
    "    return goid, title, date, publisher, text"
   ]
  },
  {
   "cell_type": "code",
   "execution_count": 11,
   "metadata": {},
   "outputs": [],
   "source": [
    "# Function to make lists out of parsed data--on single document scale for multiprocessing\n",
    "def make_lists(file):\n",
    "    \n",
    "    goid, title, date, publisher, text = getxmlcontent(corpus, file, strip_html=True)\n",
    "    \n",
    "    return goid, title,  text, date"
   ]
  },
  {
   "cell_type": "markdown",
   "metadata": {},
   "source": [
    "## Run Multiprocessing to parse XML files"
   ]
  },
  {
   "cell_type": "code",
   "execution_count": 12,
   "metadata": {},
   "outputs": [
    {
     "data": {
      "text/plain": [
       "('1812405219',\n",
       " 'May 22, 1923 (Page 9 of 24)',\n",
       " 'TIIE DETROIT FREE TRESS, TUESDAY,\" MAY 192 3. s JLjr .Li SCHOOL PICKED AS SOCIAL UNIT Welfare Conferees to Study Classroom Effect on ! 1 1 Society, JXmlt Free Pr Bureau. m MMrupulllu Kr. lld fir Kr I\\'mi rrlTHI Lease Wire. Washington, Way 21. Tuesday will ba almost a Michigan day In the Sfftslons of the National Con-lerence Con-lerence of Social Work, which has been Dieetlng in Washington sine Wednesday last. Th Tuesday program la dovoted to \"th school.\" and tha entire subject subject la under th direction of tt. Helen T. Wooh y. of Detroit, who la tli chairman of th conference for th da. . In on of th rroup meetings, rrofcinor Ouy Montros Whipple, ot the experimental education department department In the university school of education at Ann Arbor, will rend a paper on \\'School Provision tor Gifted Children In the United States,\" while In a eecond group James I\\'lunrald. executive secretary secretary of the Huelcty or St. Vincent Lie Taul, Ijo troll, will discuss Relation Relation of Social Cane Work to sichool Profrrama.\" In a third icroup Mies Klliaheth Cleveland, eupetvlaur of girl and women activities In the Detroit public aehoola, 1 to tell of \"Th i\\'arent-Ttiacber Association a u Una lietween School and Community.\" Community.\" Pr. Kelll Perkins, psychologist of the Wayne county psychological clinic, will preside over one group meeting, to which the topic assigned assigned Is \"Special Provision In the School for Tlioss with Mental Handicaps.\" In addition to her other duties for th day. Dr. Helen T. Wooley ! to prusent a paper at the main session on \"Th Kutur Jtesponslblllty of th School Toward Children under Flv Years, both Directly and Thorough Training for Parenthood.\" HEAVY BARREL CRUSHES MONROE BANK JANITOR Special to The free Frees. Monro. Mich., May 11. Km 11 Meyers. it years old. Janitor at tli Monro Btat Bavins bank, was seriously Injured here Monday when a barrel welching 100 pounds fell upon him while he was In the basement helping a truckman lower lower the hnr-ei thr\"tih a tcrnl\\'mr from a walk on Front street. He was removtd to th Monru hospital. hospital. Troubles Over, States Popular Hotel Man \"My friends all say I look better than I have in years, and I certainly certainly do feel the part, too,\" recently said Geo. L. Burke, popular day clerk at the Portland Hotel, 555 Main St., Kansas City, Mo., and a former resident of Youngstown, O., in relating his experience with Tanlac. \"Before taking Tanlac I had no appetite and for two years had been almost a chronic sufferer from indigestion. Rheumatism, knifelike knifelike pains in my back, headaches, dizzy spells and frayed nerves also added to my misery. I was losing weight, and had to strain every nerve and muscle to keep going. \"Well, Tanlac did away with all my troubles, added fifteen pounds to my weight, and put me In the pink of condition. I can\\'t say enough for Tanlac.\" Tanlac is for sale by all good druggists. Take no substitute. Over 37 million bottles sold. Tanlac Vegetable Pills are Nature\\'s Nature\\'s own remedy for constipation. For sale everywhere. Advertisement. Advertisement. BEST WAY TO END BAD COMPLEXION Lasting Results Can Now Be Had by Using Famous . Black and White Creations. When Rlrls and women realize they rave become victims of a bad complexion complexion thay seem to forget nil rea-on rea-on nnd try mont ftnytMrtfr they hear of which promises relief, without finding out the one sure and afe way to R?t rid of blackheads, plrn-plf, plrn-plf, blotches and rough, unpleasant akin. Thousands of these girls and wo men have learned that simply giving giving her complexion the care it ought to have regularly by using Mack and White Cleansing Cream to clean out of the pores every particle of dust, Urea we and other injurious things which might come In contact with the skin during the day when it is exposed to everything, will bring hark and preserve that lovely. tnft, emooth complexion of earlier years. Then, when the skin Is soothed after after a night\\'s ret from the previous flay\\'s exposure, first use a little Black and White 1\\'eroxi.le Cream before you put on your face powder. This will mold the powder on your fnce no you won\\'t have to keep putting on more powder every few minutes to ki\\'ep ynor Akin exqulsltfi. More Than 8 MiHion J Peauty Creatiortr tAre Sold Yearly V e\\' \\' - \" f \\'\\' \\' t tiKv.V&a-J DETROITER NAMED TO HEAD SAMPLE MANAGERS\\' BODY JAMES M. COI.DIXO. James M. Ooldlr.tr. sales manager for A. Krolllc A Company, of Detroit, Detroit, ha bn elected president of th National Sampl Managers\\' association. association. Other officer art Henry Moehrlnr, of Milwaukee, first vice-president; C. C Henkln, Hunting-ton, W. Vs., second vice-president; W. H. Hunt, St. Joseph, Mo, and Thomas Stlx. of Cincinnati, Ohio, board of directors; directors; J. V. Hamilton, St. Paul. Minn., secretary; Bryant 8ando, Indiana-polls, Indiana-polls, trenaurer. Th assoalatlon la made op of representatives of wholesale dry goods firms, banded together for th promotion of eillclency and th reduction reduction of overhead expenses, especially especially Insofar as the cost of selling through travelling salesmen Is concerned. concerned. Because of co-operation among the firms In th association, salesmen now need to carry only about four or five trunks of samples. samples. Before, salesmen wore forced to carry from 1J to 16 trunk of samples. Old Time Liquor Ghosts Come Up In Court Again Along With 65 Other Moth-eaten Moth-eaten Cases, Their Dismissal Dismissal Is Asked. Several cases In which saloons wire charged with having been operated operated on Bunder or without licenses were before Judge Pliny W. Marsh In recorder\\'s court, Monday. This didn\\'t mean, however, that th Volstead act has suddenly been repealed and that the old order of things Is with us again. Put that these cases were among a list ot 65 that Assistant, PrONecutor Harry 3. Toy moved to have dismissed because because of disappearance of witnesses or other reasons. Some ot the cases dated bark a far as 1914. Among them wit a cas charging arson against Morris Coleman, who was convicted several several year ago of the same charge. At his trial, Coleman was shown to have set many fires for people who sought to realls on Insuranc In that way. HOMELOSTTOHIM, JE SUES FOR $5,000 Lansing Man Charges Fraud; Tent Shelters Family. Lawrence Albrecht, of Lansing, Monday filed suit for 15,000 against Israel J. London, charging that London defrauded him and his little little family out of their home at 6979 Garland avenue, compelling them to live in a tent In winter at Mitchell, Mich. According to Alhrerht\\'s petition, he had an eoulty of $1,787 in the Lroprrly on Onrland avenue, when ondon, representing himself as the owner of a 120-anre farm at Mitchell, suggested that they trad. Th trade was effected, and Albrecht Albrecht gave London his title to th Garland avenue equity and went to the farm. He left his family In the house here temporarily. BIT months later, Albrecht charges, London sold the Garlund avenue house for a 11,400 profit and the rent was fixed at a figure that his wife could not pay. She took the children and went north, where home was made in a tent. In the spring of 1922, after th family had been north all winter. Albrecht declares that he was notified notified to move from the farm, which London had never owned, but had had an option to buy, he alleges. PARENTS AGREE AS SON REAPPEARS Vanished Parmelee Boy Shows Up When Mother Drops Suit Mexico City, May 21. (United Press.) Charles Parmelee, Jr., kidnaped kidnaped son of former Los Angeles residents, was returned Monday In circumstances as mysterious as his disappearance. I\\'annele Sr. and his divorced wife, who had the custody of the child, have been reconciled, and all suits and counter-suits between them have been withdrawn. It is learned reliably. After tho former wife had \\'cancelled \\'cancelled her actions, the father succeeded succeeded In producing th child, It I said. The boy was kidnaped from a child\\'s school here several weeks ago and a widespread search, In which aeroplanes were used by the frantic mother, failed to reveal th slightest trace of hie whereabouts. Mrs. Parmelee had begun cgal action to hold her husband for the kidnaping, and he obtained a counter Injunction protecting himself himself from arrest. The reconciliation Is said to have been effected by Parmelce\\'s mother. 23RD K. OF C. ANNUAL OPENS AT MT. CLEMENS PtwcIhI to Th Fre Pres. Mt. Clemens, May 21. Th twenty-third annual two-day convention convention of the state council Knights of Columbus opened here Monday About 150 delegates and officers registered at the K. of C. club. A smoker was held in the evening. Judge Joseph A. Moynlhen. of Detroit, Detroit, state deputy, will preside at tho opening session. Tuesday morn-Inr. morn-Inr. t U o\\'clock, following the celebration of mass by Father Thomas Luby and\\' sermon by Rev. Monslgnor Doyle, chancellor of the Detroit diocese. $10,000 Bail Set In Mail Fraud Case New Tor. May II. (By United Pj-p;,.) nobrt Edward Ingalls and Oordnn Ingalls. Indicted In Fort Worth for using the malls to defraud defraud in a stock selling plan, were arraigned and held in HO.onn hail i iy United States Commissioner Hitchcock here Mondny. Date for hearing was set for June 1. The two were arrested her Saturday and taken to th Tomb. MACK TO STAGE SAFETYPARADE 11 Schools to Participate in Demonstration Tuesday; Shaft Is Unveiled. Th second parade of Safety week In Detroit, with 3 floats and hundreds of pupils from 11 Detroit schools participating, will b held Tuesday evening under direction of the Mack Avenue Business Men\\'s club. With th Recreation band In th lad, th parade will traverse Mack avenu from St. Jn avenue to Gratiot avenue, spreading the philosophy philosophy of \"Always He Careful\" among motorists and pedestrian. restore t Speak at Ifooa. Tuesday will b \"Church day\" In th hatety week events. Th program program will begin at 11:64 a. m. with th blowing of whistle, to be followed followed at noon with a aaiute from th top of th Majestic building. At the bursting of tli bomb all tratllo will stop, and 10 buglers, statluued at various places throughout th city, lll blow tap in memory of those who have perished In traftio accidents tn Detroit. \\'1 nulla will be resumed two minute latur with a second salute. At 12:03 p. m. flve-mlnute addresses addresses on safety will be delivered at th monument by ltev. Father James Stapleton, Church of th Annunciation, Annunciation, and Kabbl Leo M. i\\'ranklin. Tempi Heth-Kl. Superintendent of Tollc William P. Itutledge, Ward N Choate and Inspector Harry H. Jackson will speak before th Klwanls club, I. loin and llotary club of Highland Park, respectively at meetings at 12:15 o\\'clock. The program for th rest of th afternoon will ba devoted to th delivery by Patrolman Catlln and sststanta of 43 thrae-mlnut peechea In motion plotur theater. Th evening program will begin with th Instruction of to recreation recreation groups la \"Alway n Careful\" Careful\" methods. Th final addresa ot tb evening will b delivered by Representative Robert Clanoy before before th Loyal Order of Moose at 8:30 o\\'clock. From I to 10:80 o\\'clock motion pictures will b shown la Cadillac squar. Moaumeat travelled Monday. Monday\\'s program began at noon, when boats on th rlvor whistled th beginning of th second \\'day of th drive to make th streets safe. Shortly after, th bursting of a bomb above Cnmpu Martlus gav th signal for th stepping of trafllc, for two minutes, simultaneously simultaneously the unveiling of th monument monument In front of th city hall tonic plac. The speaking program began at 13:03 o\\'clock, when flve-mlnute addresses addresses were mad at th monument monument by Harold H. Emmons, pres-Idont pres-Idont of th Board of Commerce; Alvln McCauley, president of the Packard Motor Car company, and S. II. Hunker, of th Generul Motor Motor corporation. A second flerlea of addresses was delivered at U:li o\\'clock by George A. Walters, before before the Exchange club; Judge A. K Got don, before tha U. & 1. club, and Councilman W. P. Bradley before before the Conopus club. Following three-mlnut addresses addresses In motion picture houses during the afternoon a mass-meeting was held at 7:30 p. m. by th Harper Avenu Improvement association In Heley school. Thl meeting was addressed by H. O. Rounds, and motion pictures were shown. At 8 o\\'clock a second mass meeting meeting was held by the Seven-Mil Improvement association In Grayling Grayling school, with George Upp the spenksr of th evening. Talks were delivered by members of th pollc department in 43 theater. From 8 o\\'clock to 10, motion pictures pictures and bsloptlcan slides were shown In Cadillac Square. ACCUSES -ATTORNEY OF FALSE AFFIDAVIT Judge Marsh Asks Prosecutor to Make Investigation. Contending that Morry M. Feln-berg, Feln-berg, an attorney, had made a false affidavit to th court In asking for a new trial for a client, William Bailey, C07 East Congress street, who Is serving three months In th house of correction a a prohibition violator, Judge Pliny W. Marsh In recorder\\'s court Monday referred the warrant to the prosecutor\\'s of-flee of-flee for Investigation and determination determination as to whether there are sufficient sufficient grounds to bring a perjury action against Feinberg. Bailey was sentenced after he had pleaded guilty to violating the prohibition prohibition law. In his motion for a new trial, which was denied, Feinberg Feinberg declared that Halley was not ready for trial and was not represented represented by counsel when he was sentenced. sentenced. Th Judge compared th court record of Bailey\\'s trial with the affidavit and turning to Feinberg, Feinberg, said: \"Yon can\\'t make a false affidavit and get away with It In this court. Your affidavit Is not In accordance with tha facta of Bailey arraignment.\" arraignment.\" $10,000 WhitMd Reward Offered Cleveland, O.. May Jl. An ordinance ordinance setting- th reward for tho capture of John L. Whitfield, alleged alleged kidnaper and slayer bf Patrolman Patrolman Dennis Griffin at 110,000 was unanimously adopted by city council Mondny. A previous offer of H.000, which was effective for on week, expired Monday, but It was renewed for one week. The reward Is payable for Whit field\\'s capture, dead or alive, and i not merely for \"Information leading i to tho arrest and conviction.\" The ! ordinance also removes Mayor Koh-ler\\'s Koh-ler\\'s bnn aeralnst the money going to policemen or member ot their family. Couneilmen Indicated that If the mayor refuses to sign th new ordinance ordinance It will be passed over his veto. Ma). Box Ordered To Edgewood, Md. By Free Pkh Private I.eord M ire. Washington. May 21. Major Arthur Wftyland Iox now a resident resident of Detroit, where he la connected connected with Parke, Davis & Co., nun request el peritiiinton to return to active duty with the army tor the furpoee of taklnr a further course n chemical warfare and an order publtiihed Monday dltecta him to proceed to fcd ire wood arsenal, Kde-wood, Kde-wood, Md.. fur duty as a student In the cuurte of Instruction there for reserv ciTlcera. ISLE CROWD MAROONED TWO HOURS BY MISHAP Visitor to Bell Tale Monday afternoon afternoon war held on the Island for two hours when a barge towed by the lug Josephine was caught tn th draw of the temporary bridge. The accident occurred at a o\\'clock, and it was 4 o\\'clock before workers succeeded succeeded in getting the draw closed. Th barge damaged some piling In the structure, but not seriously, and trafTtee was resumed as soon a th repair work was completed. WILL NOVARRO USURP VALENTINO\\'S CROWN? UT HOT E. MAHCOTTID. Who will succeed to th plao fla th film world mad vaoant by th enforced Idleness of Rudolph Valsn- tlnot Th nam et a aeor er mar of young aotors have been boosted boosted for thi honor, honor, but th most likely eaadldat at this I I m em to be Ramon Ramon N o v a r r a, who playa th featured rol In \"W h r t h Pavmnt Ends.\" now showing at th Madison theater. Novarro mad Ramon Kvnur, hi debut In \"Th Prisoner of Zen-da.\" Zen-da.\" wher his work attracted unusual unusual attention, and followed thl up with even a better performance tn \"Trifling Women.\" Novarro was burn ef Spanish parent In Durango. Mexico. There he lived th lira of a well-to-do Mexican boy and at an early age gav evidence of unusual talents. With his own hands he constructed a miniature theater In which he and his sisters enacted playa of his own creation. He even designed and fashioned th setting, some of which were remarkably clever. Ilia slstera, who did not share Ramon nthtisissm for acting, were reluctantly reluctantly wheedled Into aasumlng th female roles at a salary of two cent a performance. Realising that opportunities In tha theater wer far mor numerous numerous In the United States, he cam to thl country at an early ag and hi ability as a dancer won him a plan In th Ma Murray dance troupe, with which h toured th Orpheum olroult. Arriving In Lo Angel h became became stag managar of th Majestic Stock company, an experience which ha been invaluable to him In his screen work. Hut again dancing proved to b th kyston to hi E resent success, for h Joined th larlon Morgan dancer and while with them put on th Royal Fandango, Fandango, a dance fantasy, for th Hoi-lywood Hoi-lywood Community players. At this rerformann he wt seen by Rex ngram who was looking for th Ideal player to Impersonal th dashing Rupert of Hentsau In \"Th Prisoner of Zenda.\" Rex Ingram believe that Novarro will become on of our greatest sctors. He says: \"Novarro Is a born actor. Inexperienced yet. but able for all that to go out on th set and express things- which would pintle an old timer to accomplish.\" So Impressed was Ingram by the ability of this young Spaniard that he east him for th leading male role In \"Trifling Women.\" And Novarro\\' Novarro\\' brilliant work In that plotur plotur earned him hi prominent plac In \"Wher th Pavement Ends.\" Such I th story of this young actor whose personality and ability are hound to make him a conspicuous conspicuous figure among motion plctur Idol. To say that ha Is good looking looking Is to use colorless term, for he hss physical charm that I rare even on th screen. Ho has deep brown eyes, perfect feature and a well shaped head. Slightly over average height, he Is llth and lender and graceful. PHOTOPLAY PROGRESS SUBJECT OF EXHIBIT Charlie Chaplin, Douglas Fairbanks, Fairbanks, Mary Pickford and Rudolph Valentino will be among th visitors visitors to th Motion Picture Palace of Progress now in progress at th Coliseum In Chicago. The exhibition opened Saturday and will continue until next Saturday. It I said that never before has auch a complete survey of movledom from th making making of a tar to th showing of tha completed plctur been mad. Th Innovation Include films which talk, films which affect the aens ot smell. Aim taken on th Laughs By Cus Mager and Ben Fsacett. \"A FISH FROM THE KV.\" Ths ftun-Ftsh that lives In th ssa Is almost as round as can be. If rou should catch one You\\'d think It a tun Of brick. It\\'s so heavy, you seet Old Mother Nature waa taking a nice boat rid not very far from the Florida coast when she saw an odd fin come above the surface of the water. Many other persons would have wondered what Strang creature creature was swimming along so slowly, but the Jolly old lady 1 well acquainted acquainted with the habit of every living creature, so ahe knew It to be an ocean un fish. Now, there happen happen to be a great deal of difference between such a fish and the little sunflsh that may be caught In almost any creek or pond. This difference difference la In both size and shape. A few swift strokeR of th oars brought old Mother Nature alongside alongside the huge creature and the aun-flh aun-flh stopped swimming when she r w \\' 1 M-Lf. V - jt\",V1\\' \" mm \\' laughed and said: \"I\\'m glad to see that you are enjoying a morning swim, a you don\\'t often come to the surface unless the weather is very fine. At other time you prefer to brows around on the bottom of the ocean and feed upon seaweed. Almost anybody would think that a fish of your great size and weight would eat thousands of smaller sea creatures every week, but you seem to be a strict vegetarian. You do not get your name because of being bright colored, for you are a grayish grayish brown and nave no scales. Being Being so nearly round you look about as much like the aun a anything else. \"The other day I saw one of your cousins caught by a fisherman. It was a funny night to see him and several of his friends trying to hnul it through the water, but finally their boat reached the dock. Then the problem was to get the huge fellow out of the water. They tied ropes around Its body and huffed and puffed with all their might, but could not pull It upon the dock. Then they pulled It to a nearby derrick derrick which aoon hoisted the eunflsh and every one of them wer surprised surprised to find that It weighed 1.500 ponnds! You are really very comical and don\\'t seem to know 11. Why. you really look like only the head and shoulders of an odd fish with Just enough fins to give you a name.\" she concluded with a laugh. Tomorrow\\'s Story \"The Feather rd Street Cleaner.\" (Copyright, U2J. by the Christy Walsh i fiiuiictt.) bed ot th ortan. film of cyclone scenes, X-ry photography, colored pictures ana cartoon pnoiogrspnf. Th... will k wmmA WltK h- Visit. ors at th Palace looking on. una ! in features oi ins exninu three reel thriller ever mad, \"Th ureal Train ttotitiery, e e e Aavlmal Msk t\\'p Cast. Her I tha wy a esst of character character for \"Hunting Rig Gam In Africa With Gun nd Cmra,\" eur. rent t th Broadway Strand, might read If the actor In th great II. A Snow hunting ple had been bumin beings. i Th lion: king ef besnts and sneak, th chief villain; th ele. phant, th hero who leeda h charge against th whit Invsdeis; th two horned rhino: an assistant villain; th Giraffe, who furnishes th enmlo relief. Did you know that beccus of th bnr of vocal chorda th glraft can\\'t utter a sound? th oryx, a real hero who can kill th villainous Hon with his spear like horns; th crane, who may be said to have a \"straight\" part; the wart hog, who battles a Ford car and is the principal come-dlsn come-dlsn of th play; th sehra, Africa best dresser and the besu hrummel of th play; th baboon, whoa ten der car of her young furnishes ths not of mother love in th play. s CSaafTear a lereea Aeter. Floyd Olotsbach, th chanffaur husband of Mm. Mattenauer, th opera singer, whom she one described described a th finest specimen of manhood she had ever seen, ha be. com a screen actor, making his first appearance in th Max Graf production. \"Th Kog.\" Glotibarh. who Is an upstanding young man of fin appearance, appeared as a Russian Russian officer, making a particularly fin apparanc in the rich uniform. e e SCREEN GOSSIP. Ralph Xnc has computed Dorothy Dorothy Dalton\\'s latest Paramount plctur, plctur, an adaptation of \"Lah Klesrhna,\" at th Long Island studio. Th picture, which deals with Pari crook Ufa, tell a story of lov and Intrigue and give Miss Dalton an opportunity for soms of her best work. , Maud Turner Gordon, who play. u .w ,,,u,.,vr I u,\" Willi nmnH Melghn In hi Paramount plctur, \"Back Horn and Broke,\" will have a miliar pari in ttomewaro Bound,\" Mr, Melghan\\'a latest pic-ture, pic-ture, which Ralph Inc la directing at th Long Island studio. e e Anita Stewart, cinema atar; Irene Dalton, also well known on th screen, and aome 300 bathing girls, worked last week in scenes for \"Hollywood.\" being producel by Jamea Cruze, who made \"The Covered Covered Wagon\" for l\\'aramount. A California beach wa employed for the background. a e e Lw Cody, who for several months has been playing old-clothes parte, with the exception of \"Rupert of Hentxlau,\" a costume plctur. essay essay hi first dressed-up part of the season In \"I.swful Larceny,\" an Allan Dwan Paramount production which has Just been completed at th Long Island atudlo. see Louis Faxenda, In addition to being one of the screen\\' most popular popular comediennes, I also a writer of ability. She has Just completed and sent to an Kastern publisher an Installment Installment of \"Screen Impressions.\" in which she has characterised ten notables of filmland. She wrote a similar Series several month ago which met with uch success that she was asked to prepar a second series. e Bradley King la at work on a screen adaptation of \"Anna Chris-tie.\" Chris-tie.\" Eugene O\\'Neill fnmuus stage play for which Thomas H. Ince. has purchased dim right at a top-notch prlc of 1100,000. John Griffith Wray will direct the new Ince special special which will go Into production within a few weeks. ERIE COUPLE TO Hf n GOLDEN WEDDING FETE Bpeolsl to The Tree Press. Monroe, Mich.. May 21. Mr. and Mrs. Samuel S. Lapotnte will celebrate celebrate their fiftieth anniversary at their horn In Erie, Tuesday. Both are well and ctlv. Lapolnt waa born In Hedford town-hip, Monroo county. 70 years ago and his wife, who waa Sarah Morose, In White-ford, White-ford, S 9 year go. Fred Lapolnte, or Detroit. Is one of seven children. children. Lapolnte has served on the fc-rl township board of super-visor super-visor 17 years, has been chairman county rsglstrar of deeds and Justice Justice of the peace. In his early (lays he opened a grocery at New-port, New-port, Monroe county, where he also MAPVArl alas hlnrK \\'j \"\"r commissioner n. ji nan uvea in township about 40 years. Krle SAGINAW YOUTH DIES OF CAR CRASH HURTS Pr.il to The w Prem. Saginaw, May 21. Julias ravel, JO year old, memher of an auto party, tiled, Monday, from Injuries recfiv-ert recfiv-ert when a machine driven by William William Hahn plunged Irito a ditch and avalnst a telephone pole. Prosecuting- Attorney W. M. nrucker save Hahn will b held until after the Inquest f MONROE Monroe, Mich., May II. The city commission Monday night authorised authorised the community and recreation recreation service to use the elxth precinct precinct city building as headquarter. The city will purchase a tractor for us on dirt streets. Mayor James Gllmnre wa granted granted permission to obtain necessary ,,,ak,uu uii a prtipnHirjon for , annexing part of Frenchtown and Monroetown. A district convention nf the W C. T. U.. will be held here Wedn- \\' dny and Thursday, at the Haptlst church. Seventy-five delegute are 1 expected. MA Lingering Cough Which Seemed Incurable\" If you are sufTurlng from a stubborn stubborn cough, or the results of a last winter\\'s attack of \"flu\" or grip; If you are thin, weak, run down and\\'en-feebled and\\'en-feebled from any oause, take Eck-man Eck-man Alterative for a short time and see how It builds up your lost strength, energy and ambition. Mr. Dolan, whose statement appears appears below, wa laid up for three months before he began to take Fck-man\\'a: Fck-man\\'a: hla speedy recovery Is but one of thousands of similar caaes. Eckman\\'s Alterative has a auccess-fur auccess-fur record of over 20 years. It la a restorative and reconstructive builder. Its chief Ingredient. Calcium, Calcium, la one of the principal elements of the human body, necessary to strong bones, sound teeth, bodily vigor and energy. Get It from your drugglat $1.50 a large bottle. \"t have osM s bottles of Kekman\\'a Alterative for a lingering coitRh, a-hieh seemed Inmrohlr. Now I work every day, reet perfect and de net feel exhausted after n hard day work, while I was always tired before.\" John J. Dolan, hr.f Duqueene, P. ECKMAN\\'S ALTERATIVE Tli Original Calcium Tonic NOW! Syncopation Week! Introducing HENRY THIES AND HIS RITZ-ON-THE-LAKE ORCHESTRA n dolly Connolly Taylor, Macy & Hawk CKAftXOTTV ICBTZJia M.AXISB Oa th Screen WALTER Ltt Nothing Prtvtnt You From Seeing H. A. Snow\\'t III AFRICA th CAMERA 0 17\\' 171 A Devastating Stampede of Crazed and tOljJLJ Trumpeting Elephants Charging the Camera. Hundreds of Marvelous Impala Actually Leap in Their Might Over the Highest Trees. The Warthog, the Pansy Bonehead of the Forest, Charges Headlong Into the Ford with Unexpected Results and for Once the Ford Isn\\'t Rattled. LLOYD HAMILTCf. in \"EXTRA! EXTRA!\\' Come Early A GREAT BILL 7uo TALMADGE NORMA MEIGHAW THOS \\'THE HEART OF WETONA\\' CHARLES JQXES m Star of \"Ths Ftit Msil\" tfHUtlfr .nr.,;\",... nuirt\" NOWI LARGE ORCHcSi RA Hera\\'s a Gripping Lov Drama of a Woman ToM in An Intense and Romantic Manner Large Orchestra \\'\\'Glimpses of the Moon\" With BEBE DANIELS and NITA NALDI And th Vtual Standard Vavdevill WITH AL AND EM FRAOELL aJ David Friday and the M. A. C. Theater-goers have an opportunity to see David Friday, the well known president of Michigan Agri cultural College at East Lansing Sec the new buildings is largely largely responsible for. This and other :eaturcs showing the Junior League Convention; the Exchange Club Mother and Daughter Celebration and some highly interesting Safety Week specials are showing this week, First on tho Seroon lit (Uyr Detroit FILM EDITION PRODUCED BY THS METROPOLITAN MOTION PICTURI Cft \\' AT THE Adams Theatre Today and All Thi Weak Other Film Edition Roloaooo Todayi COLI\\'MIIIA 150 Monroe (U. IITOKV h:;i t.riuid River LINC OLN Mil AKK MI1 Fort W. AI.H IMHK. M4iH W aodward Mil ADK. 2lft Hustings vi It AMI 17.1 (.rand IUW K( Alll.V B107 (.r.tlot VEMMIMK t.rand River (EIMA1 1X4.1 Michigan t ATIII. KINK IS4 ( hrne OA K M A N HI.VI). Oakuian rilendsle I.AVr Ml Oakland Tennysoa l\\'Hl :!,-, t.rand Hirer OI1EON isntt Crmrurd M K T,M lck IHTiiR-10 Mctiir IIAKMOMK -Mark Renltea U AUAMIK HK Oakland Vi zL-IklU now! I I Xiv . I EE AMUSEMENT & iTenrishcv q rnm vbtmhosiis OT1SS sTOTBlTUa HIE1S la \"Jtr snilags Spend sua Dime.\" 3rd and Last Week 1 1 a. a. tell p. m. OTHkHS Fmaturmt J\\'-- V.V i - vi I bio mm (P 1 On of tho Hit of tho Fiction World with RAMON NOVARRO Ths Successor to Kodolph Valentin ALICE TERRY Stsr of \"Ths 4 Horsemen\" snd \"The Prisoner of Zenda\" And Directed bv \\' : REX INGRAM Creator of \"Th 4 Horsemen\" fed Other Hits ROY D1ETERICH OTHER NOVELTIES Th Superfr DOROTHY PHILLIPS In Brilliant Hole Supported By A BRILLIANT CAST Premier Quartet Little Sousa SSXeSZ PATTON & MARKS \\'J 01 a\".\" \"The Go-Gefier\".-Larry Semon B;;.. Rflttu Pnrtitvrnn \"the white UbllJ WUliipjUII FLOWER\" McFarland iffijaw Spectacular Sevcnt Other Big Acts Baseball Score by Innings at Matine Dally to Cleveland For Cleveland, Plttabur snd Points Bast Leave daily 1 1 P. M. Arrive in Cleveisnd 6.15 A. M. Fare to Cleveland, $3 60 one wsy, $6.50 round trip. ToPituburg $9. la. Daily to Buffalo For Buffalo, New York, Wsthtngton snd Points Ea.t. Lesve Daily at 5: JO P. M.; arrive in Buffalo 8:30 A. M. Fare to Buffalo, Buffalo, $6.00 one way; $11.50 round trip. To New York $20.29 or $21.S2. Steamers lrsve from Third Street Wharf on Eastern Time. CITY OFFICE. 227 W. FORT ST. \"You\\'ve Got to See Mamma Ev\\'ry Night\" The popularity of thl tuneful, elf-inrilng. loi-trot loi-trot It ipreidmg like epidemic. If you wnt the hneat version oi u ever plsyed. eet the Columbia Record, by The argisns. fou Tell Her 1 Stutter\" t encore number oa her aids. Columbia Dealers A-38S7 75e l Columbia 53 \" f 1 I LOIUmmi ll \" ssi 1 1 Oraphothoo Co. LAST VvLEK N.Y.WintttGardtn\\'tGrtafit Shout TH 8 r i - 1.1 : .-- i n. mm All Star Cast 21 Colossal Scenes POPULAR PRICE MATS. WED. and SAT., 50JoJ2-X NFYTttTFI\\' \"eg. Smb. Mat. nLAi rttr.a sfatsnow Cveafage 2S to SI. 50 Pop. Mais-\";-\\' 25c to$l V ED. L. BLOOM rVeeente Th Revs T Sat Startieet HrJwy Spi$M922 Artth Unmatched Splmndor of Start and Beauty Choru AND 33 COLOSSAL 5CLNE3 OHPOSI I t HO I t L CALflLLAC BIGGER AND BETTER THAN BEFORE NEW PLAIiTATIOI) s: DAYS & .t. EDDIE GREEN Wooilng\\'s Syncopated Orchestra eirrt at. MldolghlShow T-E-IV3-P-L-E M.t.T THt RUNNING tlMfil JCtlMEl Itrm .d Ferrtll j S ll\" Si I S; Carl-y en.! Alfred SiSSI H.rrr OU FOR D.nnl. \"STARS OF YESTERDAY\" S:3T 2:S7l EDWARDS A BEASLEY CEO. MOORE A GIRLS RAY 4 EMMA Dl AN HACKETTandDELMAR Jt: Jib i io TlO:2S iioias WADF. BOOTH 4 251 Hsrvsra, Wrnlr.e a Brute SiSSI PICTURES\" NEXT Harlaod Diion, Maria CaTIafian WEEK and SlxJeea \"Sunshlna Girls\" Benner Shew ml th SMn All Loaghtt GARRICK lrn Annual Siui MAIS.TU\"r lM- 25c-50c lrn Annual Seesen Nlfhtsi SS-SO-7S-SI Ths Bonstelle Co. in Ritm Johnian Young\\' Brilliant Cfn4j \"Little Old New York\" NEXT MONDAY \"SEVENTEEN\" Woedwsrd st Willi 71t WEEK MATS. fW- Nijhts.-53c-1.00 Mats, e . 28-33 TKE WOODWARD PLAYERS in thm Joyful Myatrry Comedy \"LISTENING IN\" NEXT SUNDAY \"COME SEVEN\" EMMETT DALTON J A Coreenus Russian Sln(-lilln..nil. Virr\" nf and Danclnf Spectacle WUSIiUH I all a OTHER BIG ACTS S Mldnlte Shew Set, 1 1 : 30. Seste Reserve \\' \\'.-c . .-7f . J.-V:ii ALHAMBRA wH\\'h Big Double Hill Harold Llovd la \"lK. IA K.\" Mrs hmlulph VHlcntlno. TC. K Lincoln In \"The \"Woman in Chains\" CRYSTAL sss Mirliisao Ave. Cecil B. PeMille\\'s \"ADAM\\'S Kilt\" with Milton Rills. Anna Q. Ntlstton nnd HI ,\\'ast. Selected Comedy. F. P. Weettlr. DEL-THE Maek sad Hojromb Hth\\'l \"lsrtnn In \"CAS A WOMW U E TH K t\" Pan Mann r0rn-y The Long flhot\" Tho Land of Klnf Tut. DE LUXE Kereheval at \"\\'lair Wlnd-ior & Kenneth Harlan In \"TH K LITTLE ( III III II Altlll vn Tun, CORNfcR\" \"l-\\'lshtliig Blood\"\\' rd. 1 I R I t Boulevard at \"MIfllfTY I.AK A Kllsic Johnny JunAe tometly Fathe News LAKEVVOOD el -lTf rse Gladys Walton In \"OO-lp\\' Century I\\'onnftly \"Sunny Jim\" 4XINE M\"ek mt Ail1j Uaidirin Johrnv Tlinpii tn -SI RE FTRK FLINT Lflrry 8mon t\\'oriedy \"No Wutinf B!l PALACE Uonme at 1 D.r... Pota Nrl In \"MAO I.OVK\" S Flymt Blue Devlia n.l 7 other Sln.ltud Vauiielll At\\'a RIALTO Gratiot at 111. Killm. Po\\'a Ngrt In \"MAD I.O f Charlie Murray Comedy Pathe Ne STRAND Grand R1tj at Fourtrntsi Hnrald I-ioya In \"1K. .V K\" Spfc il Cast in \"P\\'-lvtn\" l Kvnta Thursday anJ Friday \"l-arty\" TUXEDO Jir All Ptsr Caat In \"WHAT A WIFE l.EARNKIl\" -HI V.nyn, Sivn,,s- .nii..iy l\\'aihu News YOUR Yorrit at Mt. :il\\'sli p\\'Knt I.ov Ki1 tisieth liughs- H \"FK(.KT MK NOT\\' Rd- I \\' VisM.r.a: iJloo\\'i \\' iuarl iiurd C\\'amt-d- \"ilaUrvMiaxv\\' I SiST I BiJ4 s?',\n",
       " '1923-05-22')"
      ]
     },
     "execution_count": 12,
     "metadata": {},
     "output_type": "execute_result"
    }
   ],
   "source": [
    "# Test function on single document\n",
    "make_lists(input_files[10003])"
   ]
  },
  {
   "cell_type": "code",
   "execution_count": 13,
   "metadata": {
    "scrolled": true
   },
   "outputs": [],
   "source": [
    "# When using multiple processes, important to eventually close them to avoid memory/resource leaks\n",
    "try:\n",
    "    # Define a thread Pool to process multiple XML files simultaneously\n",
    "    # Default set to num_cores - 1, but may change number of processes depending on instance\n",
    "    p = Pool(processes=num_cores-1)\n",
    "    \n",
    "    # Apply function with Pool to corpus\n",
    "    processed_lists = p.map(make_lists, input_files)\n",
    "\n",
    "except Exception as e:\n",
    "    print(f\"Error in processing document: {e}\")\n",
    "    \n",
    "finally:\n",
    "    p.close()"
   ]
  },
  {
   "cell_type": "code",
   "execution_count": 14,
   "metadata": {},
   "outputs": [],
   "source": [
    "# Transform processed data into a dataframe\n",
    "df = pd.DataFrame(processed_lists, columns=['GOID','Title', 'Text', 'Date'])"
   ]
  },
  {
   "cell_type": "code",
   "execution_count": 15,
   "metadata": {},
   "outputs": [
    {
     "data": {
      "text/html": [
       "<div>\n",
       "<style scoped>\n",
       "    .dataframe tbody tr th:only-of-type {\n",
       "        vertical-align: middle;\n",
       "    }\n",
       "\n",
       "    .dataframe tbody tr th {\n",
       "        vertical-align: top;\n",
       "    }\n",
       "\n",
       "    .dataframe thead th {\n",
       "        text-align: right;\n",
       "    }\n",
       "</style>\n",
       "<table border=\"1\" class=\"dataframe\">\n",
       "  <thead>\n",
       "    <tr style=\"text-align: right;\">\n",
       "      <th></th>\n",
       "      <th>GOID</th>\n",
       "      <th>Title</th>\n",
       "      <th>Text</th>\n",
       "      <th>Date</th>\n",
       "    </tr>\n",
       "  </thead>\n",
       "  <tbody>\n",
       "    <tr>\n",
       "      <th>0</th>\n",
       "      <td>1815088244</td>\n",
       "      <td>January 6, 1931 (Page 21 of 26)</td>\n",
       "      <td>THE PETROTT FREE PRESS TUESDAY. JANUARY 8. Hit...</td>\n",
       "      <td>1931-01-06</td>\n",
       "    </tr>\n",
       "  </tbody>\n",
       "</table>\n",
       "</div>"
      ],
      "text/plain": [
       "         GOID                            Title  \\\n",
       "0  1815088244  January 6, 1931 (Page 21 of 26)   \n",
       "\n",
       "                                                Text        Date  \n",
       "0  THE PETROTT FREE PRESS TUESDAY. JANUARY 8. Hit...  1931-01-06  "
      ]
     },
     "execution_count": 15,
     "metadata": {},
     "output_type": "execute_result"
    }
   ],
   "source": [
    "# View dataframe\n",
    "df.head(1)"
   ]
  },
  {
   "cell_type": "markdown",
   "metadata": {},
   "source": [
    "## Save Dataframe as CSV\n",
    "\n",
    "Make sure to change the `output_file` variable (defined at the top of script) to desired output file name before running this cell."
   ]
  },
  {
   "cell_type": "code",
   "execution_count": 16,
   "metadata": {},
   "outputs": [],
   "source": [
    "# Save output to file\n",
    "df.to_csv(output_file)"
   ]
  },
  {
   "cell_type": "code",
   "execution_count": 31,
   "metadata": {},
   "outputs": [],
   "source": [
    "random_sample = df['GOID'].sample(n=150)"
   ]
  },
  {
   "cell_type": "code",
   "execution_count": 36,
   "metadata": {},
   "outputs": [],
   "source": [
    "random_sample.to_csv(\"random_sample_output.txt\", index=False)"
   ]
  },
  {
   "cell_type": "code",
   "execution_count": 37,
   "metadata": {},
   "outputs": [],
   "source": [
    "data_to_export = \"random_sample_output.txt\""
   ]
  },
  {
   "cell_type": "code",
   "execution_count": 38,
   "metadata": {},
   "outputs": [
    {
     "name": "stdout",
     "output_type": "stream",
     "text": [
      "Completed 1.6 KiB/1.6 KiB (24.3 KiB/s) with 1 file(s) remaining\r\n",
      "upload: ./random_sample_output.txt to s3://pq-tdm-studio-results/tdm-ale-data/a2535/results/random_sample_output.txt\r\n"
     ]
    }
   ],
   "source": [
    "!aws s3 cp $data_to_export s3://pq-tdm-studio-results/tdm-ale-data/a2535/results/"
   ]
  },
  {
   "cell_type": "markdown",
   "metadata": {},
   "source": [
    "## Attach Training Data\n"
   ]
  },
  {
   "cell_type": "code",
   "execution_count": 3,
   "metadata": {},
   "outputs": [
    {
     "ename": "ParserError",
     "evalue": "Error tokenizing data. C error: Calling read(nbytes) on source failed. Try engine='python'.",
     "output_type": "error",
     "traceback": [
      "\u001b[0;31m---------------------------------------------------------------------------\u001b[0m",
      "\u001b[0;31mParserError\u001b[0m                               Traceback (most recent call last)",
      "Cell \u001b[0;32mIn[3], line 1\u001b[0m\n\u001b[0;32m----> 1\u001b[0m df_output \u001b[38;5;241m=\u001b[39m \u001b[43mpd\u001b[49m\u001b[38;5;241;43m.\u001b[39;49m\u001b[43mread_csv\u001b[49m\u001b[43m(\u001b[49m\u001b[38;5;124;43m'\u001b[39;49m\u001b[38;5;124;43mConvert_To_Dataframe_Police_all.csv\u001b[39;49m\u001b[38;5;124;43m'\u001b[39;49m\u001b[43m)\u001b[49m\n",
      "File \u001b[0;32m~/anaconda3/envs/python3/lib/python3.10/site-packages/pandas/util/_decorators.py:211\u001b[0m, in \u001b[0;36mdeprecate_kwarg.<locals>._deprecate_kwarg.<locals>.wrapper\u001b[0;34m(*args, **kwargs)\u001b[0m\n\u001b[1;32m    209\u001b[0m     \u001b[38;5;28;01melse\u001b[39;00m:\n\u001b[1;32m    210\u001b[0m         kwargs[new_arg_name] \u001b[38;5;241m=\u001b[39m new_arg_value\n\u001b[0;32m--> 211\u001b[0m \u001b[38;5;28;01mreturn\u001b[39;00m \u001b[43mfunc\u001b[49m\u001b[43m(\u001b[49m\u001b[38;5;241;43m*\u001b[39;49m\u001b[43margs\u001b[49m\u001b[43m,\u001b[49m\u001b[43m \u001b[49m\u001b[38;5;241;43m*\u001b[39;49m\u001b[38;5;241;43m*\u001b[39;49m\u001b[43mkwargs\u001b[49m\u001b[43m)\u001b[49m\n",
      "File \u001b[0;32m~/anaconda3/envs/python3/lib/python3.10/site-packages/pandas/util/_decorators.py:331\u001b[0m, in \u001b[0;36mdeprecate_nonkeyword_arguments.<locals>.decorate.<locals>.wrapper\u001b[0;34m(*args, **kwargs)\u001b[0m\n\u001b[1;32m    325\u001b[0m \u001b[38;5;28;01mif\u001b[39;00m \u001b[38;5;28mlen\u001b[39m(args) \u001b[38;5;241m>\u001b[39m num_allow_args:\n\u001b[1;32m    326\u001b[0m     warnings\u001b[38;5;241m.\u001b[39mwarn(\n\u001b[1;32m    327\u001b[0m         msg\u001b[38;5;241m.\u001b[39mformat(arguments\u001b[38;5;241m=\u001b[39m_format_argument_list(allow_args)),\n\u001b[1;32m    328\u001b[0m         \u001b[38;5;167;01mFutureWarning\u001b[39;00m,\n\u001b[1;32m    329\u001b[0m         stacklevel\u001b[38;5;241m=\u001b[39mfind_stack_level(),\n\u001b[1;32m    330\u001b[0m     )\n\u001b[0;32m--> 331\u001b[0m \u001b[38;5;28;01mreturn\u001b[39;00m \u001b[43mfunc\u001b[49m\u001b[43m(\u001b[49m\u001b[38;5;241;43m*\u001b[39;49m\u001b[43margs\u001b[49m\u001b[43m,\u001b[49m\u001b[43m \u001b[49m\u001b[38;5;241;43m*\u001b[39;49m\u001b[38;5;241;43m*\u001b[39;49m\u001b[43mkwargs\u001b[49m\u001b[43m)\u001b[49m\n",
      "File \u001b[0;32m~/anaconda3/envs/python3/lib/python3.10/site-packages/pandas/io/parsers/readers.py:950\u001b[0m, in \u001b[0;36mread_csv\u001b[0;34m(filepath_or_buffer, sep, delimiter, header, names, index_col, usecols, squeeze, prefix, mangle_dupe_cols, dtype, engine, converters, true_values, false_values, skipinitialspace, skiprows, skipfooter, nrows, na_values, keep_default_na, na_filter, verbose, skip_blank_lines, parse_dates, infer_datetime_format, keep_date_col, date_parser, dayfirst, cache_dates, iterator, chunksize, compression, thousands, decimal, lineterminator, quotechar, quoting, doublequote, escapechar, comment, encoding, encoding_errors, dialect, error_bad_lines, warn_bad_lines, on_bad_lines, delim_whitespace, low_memory, memory_map, float_precision, storage_options)\u001b[0m\n\u001b[1;32m    935\u001b[0m kwds_defaults \u001b[38;5;241m=\u001b[39m _refine_defaults_read(\n\u001b[1;32m    936\u001b[0m     dialect,\n\u001b[1;32m    937\u001b[0m     delimiter,\n\u001b[0;32m   (...)\u001b[0m\n\u001b[1;32m    946\u001b[0m     defaults\u001b[38;5;241m=\u001b[39m{\u001b[38;5;124m\"\u001b[39m\u001b[38;5;124mdelimiter\u001b[39m\u001b[38;5;124m\"\u001b[39m: \u001b[38;5;124m\"\u001b[39m\u001b[38;5;124m,\u001b[39m\u001b[38;5;124m\"\u001b[39m},\n\u001b[1;32m    947\u001b[0m )\n\u001b[1;32m    948\u001b[0m kwds\u001b[38;5;241m.\u001b[39mupdate(kwds_defaults)\n\u001b[0;32m--> 950\u001b[0m \u001b[38;5;28;01mreturn\u001b[39;00m \u001b[43m_read\u001b[49m\u001b[43m(\u001b[49m\u001b[43mfilepath_or_buffer\u001b[49m\u001b[43m,\u001b[49m\u001b[43m \u001b[49m\u001b[43mkwds\u001b[49m\u001b[43m)\u001b[49m\n",
      "File \u001b[0;32m~/anaconda3/envs/python3/lib/python3.10/site-packages/pandas/io/parsers/readers.py:611\u001b[0m, in \u001b[0;36m_read\u001b[0;34m(filepath_or_buffer, kwds)\u001b[0m\n\u001b[1;32m    608\u001b[0m     \u001b[38;5;28;01mreturn\u001b[39;00m parser\n\u001b[1;32m    610\u001b[0m \u001b[38;5;28;01mwith\u001b[39;00m parser:\n\u001b[0;32m--> 611\u001b[0m     \u001b[38;5;28;01mreturn\u001b[39;00m \u001b[43mparser\u001b[49m\u001b[38;5;241;43m.\u001b[39;49m\u001b[43mread\u001b[49m\u001b[43m(\u001b[49m\u001b[43mnrows\u001b[49m\u001b[43m)\u001b[49m\n",
      "File \u001b[0;32m~/anaconda3/envs/python3/lib/python3.10/site-packages/pandas/io/parsers/readers.py:1778\u001b[0m, in \u001b[0;36mTextFileReader.read\u001b[0;34m(self, nrows)\u001b[0m\n\u001b[1;32m   1771\u001b[0m nrows \u001b[38;5;241m=\u001b[39m validate_integer(\u001b[38;5;124m\"\u001b[39m\u001b[38;5;124mnrows\u001b[39m\u001b[38;5;124m\"\u001b[39m, nrows)\n\u001b[1;32m   1772\u001b[0m \u001b[38;5;28;01mtry\u001b[39;00m:\n\u001b[1;32m   1773\u001b[0m     \u001b[38;5;66;03m# error: \"ParserBase\" has no attribute \"read\"\u001b[39;00m\n\u001b[1;32m   1774\u001b[0m     (\n\u001b[1;32m   1775\u001b[0m         index,\n\u001b[1;32m   1776\u001b[0m         columns,\n\u001b[1;32m   1777\u001b[0m         col_dict,\n\u001b[0;32m-> 1778\u001b[0m     ) \u001b[38;5;241m=\u001b[39m \u001b[38;5;28;43mself\u001b[39;49m\u001b[38;5;241;43m.\u001b[39;49m\u001b[43m_engine\u001b[49m\u001b[38;5;241;43m.\u001b[39;49m\u001b[43mread\u001b[49m\u001b[43m(\u001b[49m\u001b[43m  \u001b[49m\u001b[38;5;66;43;03m# type: ignore[attr-defined]\u001b[39;49;00m\n\u001b[1;32m   1779\u001b[0m \u001b[43m        \u001b[49m\u001b[43mnrows\u001b[49m\n\u001b[1;32m   1780\u001b[0m \u001b[43m    \u001b[49m\u001b[43m)\u001b[49m\n\u001b[1;32m   1781\u001b[0m \u001b[38;5;28;01mexcept\u001b[39;00m \u001b[38;5;167;01mException\u001b[39;00m:\n\u001b[1;32m   1782\u001b[0m     \u001b[38;5;28mself\u001b[39m\u001b[38;5;241m.\u001b[39mclose()\n",
      "File \u001b[0;32m~/anaconda3/envs/python3/lib/python3.10/site-packages/pandas/io/parsers/c_parser_wrapper.py:230\u001b[0m, in \u001b[0;36mCParserWrapper.read\u001b[0;34m(self, nrows)\u001b[0m\n\u001b[1;32m    228\u001b[0m \u001b[38;5;28;01mtry\u001b[39;00m:\n\u001b[1;32m    229\u001b[0m     \u001b[38;5;28;01mif\u001b[39;00m \u001b[38;5;28mself\u001b[39m\u001b[38;5;241m.\u001b[39mlow_memory:\n\u001b[0;32m--> 230\u001b[0m         chunks \u001b[38;5;241m=\u001b[39m \u001b[38;5;28;43mself\u001b[39;49m\u001b[38;5;241;43m.\u001b[39;49m\u001b[43m_reader\u001b[49m\u001b[38;5;241;43m.\u001b[39;49m\u001b[43mread_low_memory\u001b[49m\u001b[43m(\u001b[49m\u001b[43mnrows\u001b[49m\u001b[43m)\u001b[49m\n\u001b[1;32m    231\u001b[0m         \u001b[38;5;66;03m# destructive to chunks\u001b[39;00m\n\u001b[1;32m    232\u001b[0m         data \u001b[38;5;241m=\u001b[39m _concatenate_chunks(chunks)\n",
      "File \u001b[0;32m~/anaconda3/envs/python3/lib/python3.10/site-packages/pandas/_libs/parsers.pyx:808\u001b[0m, in \u001b[0;36mpandas._libs.parsers.TextReader.read_low_memory\u001b[0;34m()\u001b[0m\n",
      "File \u001b[0;32m~/anaconda3/envs/python3/lib/python3.10/site-packages/pandas/_libs/parsers.pyx:866\u001b[0m, in \u001b[0;36mpandas._libs.parsers.TextReader._read_rows\u001b[0;34m()\u001b[0m\n",
      "File \u001b[0;32m~/anaconda3/envs/python3/lib/python3.10/site-packages/pandas/_libs/parsers.pyx:852\u001b[0m, in \u001b[0;36mpandas._libs.parsers.TextReader._tokenize_rows\u001b[0;34m()\u001b[0m\n",
      "File \u001b[0;32m~/anaconda3/envs/python3/lib/python3.10/site-packages/pandas/_libs/parsers.pyx:1973\u001b[0m, in \u001b[0;36mpandas._libs.parsers.raise_parser_error\u001b[0;34m()\u001b[0m\n",
      "\u001b[0;31mParserError\u001b[0m: Error tokenizing data. C error: Calling read(nbytes) on source failed. Try engine='python'."
     ]
    }
   ],
   "source": [
    "df_output = pd.read_csv('Convert_To_Dataframe_Police_all.csv')"
   ]
  },
  {
   "cell_type": "code",
   "execution_count": 25,
   "metadata": {
    "scrolled": true
   },
   "outputs": [],
   "source": [
    "df_train = pd.read_csv('training_data.csv')"
   ]
  },
  {
   "cell_type": "code",
   "execution_count": 26,
   "metadata": {},
   "outputs": [],
   "source": [
    "df_train.drop_duplicates(inplace=True)"
   ]
  },
  {
   "cell_type": "code",
   "execution_count": 28,
   "metadata": {},
   "outputs": [],
   "source": [
    "df_merged = pd.merge(df_output, df_train, on='GOID', how='inner')"
   ]
  },
  {
   "cell_type": "code",
   "execution_count": 30,
   "metadata": {},
   "outputs": [
    {
     "data": {
      "text/html": [
       "<div>\n",
       "<style scoped>\n",
       "    .dataframe tbody tr th:only-of-type {\n",
       "        vertical-align: middle;\n",
       "    }\n",
       "\n",
       "    .dataframe tbody tr th {\n",
       "        vertical-align: top;\n",
       "    }\n",
       "\n",
       "    .dataframe thead th {\n",
       "        text-align: right;\n",
       "    }\n",
       "</style>\n",
       "<table border=\"1\" class=\"dataframe\">\n",
       "  <thead>\n",
       "    <tr style=\"text-align: right;\">\n",
       "      <th></th>\n",
       "      <th>Unnamed: 0</th>\n",
       "      <th>GOID</th>\n",
       "      <th>Title</th>\n",
       "      <th>Text</th>\n",
       "      <th>Date</th>\n",
       "      <th>Class</th>\n",
       "    </tr>\n",
       "  </thead>\n",
       "  <tbody>\n",
       "    <tr>\n",
       "      <th>0</th>\n",
       "      <td>411</td>\n",
       "      <td>1820265981</td>\n",
       "      <td>January 2, 1972 (Page 2 of 178)</td>\n",
       "      <td>2-A Sunday, Jan. 2, '72 DETROIT FREE PRESS 197...</td>\n",
       "      <td>1972-01-02</td>\n",
       "      <td>1</td>\n",
       "    </tr>\n",
       "    <tr>\n",
       "      <th>1</th>\n",
       "      <td>4088</td>\n",
       "      <td>1813612520</td>\n",
       "      <td>May 16, 1925 (Page 10 of 22)</td>\n",
       "      <td>12 THE DETROIT FR E PRESS. SAT l J.JA . m a i ...</td>\n",
       "      <td>1925-05-16</td>\n",
       "      <td>0</td>\n",
       "    </tr>\n",
       "    <tr>\n",
       "      <th>2</th>\n",
       "      <td>9596</td>\n",
       "      <td>1821803197</td>\n",
       "      <td>June 21, 1979 (Page 12 of 72)</td>\n",
       "      <td>1A ctwir vr.it F'Kc:3TNUP?DAy, ju?.t :i, 1973 ...</td>\n",
       "      <td>1979-06-21</td>\n",
       "      <td>0</td>\n",
       "    </tr>\n",
       "    <tr>\n",
       "      <th>3</th>\n",
       "      <td>11521</td>\n",
       "      <td>1820095901</td>\n",
       "      <td>September 22, 1971 (Page 3 of 52)</td>\n",
       "      <td>Free Press Telephones it jfaee Today's Chuckle...</td>\n",
       "      <td>1971-09-22</td>\n",
       "      <td>1</td>\n",
       "    </tr>\n",
       "    <tr>\n",
       "      <th>4</th>\n",
       "      <td>13087</td>\n",
       "      <td>1822204708</td>\n",
       "      <td>July 4, 1982 (Page 41 of 202)</td>\n",
       "      <td>DETROIT FREE PRESSSUNDAY, JULY 4, 1982 11D Riv...</td>\n",
       "      <td>1982-07-04</td>\n",
       "      <td>0</td>\n",
       "    </tr>\n",
       "  </tbody>\n",
       "</table>\n",
       "</div>"
      ],
      "text/plain": [
       "   Unnamed: 0        GOID                              Title  \\\n",
       "0         411  1820265981    January 2, 1972 (Page 2 of 178)   \n",
       "1        4088  1813612520       May 16, 1925 (Page 10 of 22)   \n",
       "2        9596  1821803197      June 21, 1979 (Page 12 of 72)   \n",
       "3       11521  1820095901  September 22, 1971 (Page 3 of 52)   \n",
       "4       13087  1822204708      July 4, 1982 (Page 41 of 202)   \n",
       "\n",
       "                                                Text        Date  Class  \n",
       "0  2-A Sunday, Jan. 2, '72 DETROIT FREE PRESS 197...  1972-01-02      1  \n",
       "1  12 THE DETROIT FR E PRESS. SAT l J.JA . m a i ...  1925-05-16      0  \n",
       "2  1A ctwir vr.it F'Kc:3TNUP?DAy, ju?.t :i, 1973 ...  1979-06-21      0  \n",
       "3  Free Press Telephones it jfaee Today's Chuckle...  1971-09-22      1  \n",
       "4  DETROIT FREE PRESSSUNDAY, JULY 4, 1982 11D Riv...  1982-07-04      0  "
      ]
     },
     "execution_count": 30,
     "metadata": {},
     "output_type": "execute_result"
    }
   ],
   "source": [
    "df_merged.head()"
   ]
  },
  {
   "cell_type": "code",
   "execution_count": 31,
   "metadata": {},
   "outputs": [
    {
     "data": {
      "text/plain": [
       "1    76\n",
       "0    65\n",
       "Name: Class, dtype: int64"
      ]
     },
     "execution_count": 31,
     "metadata": {},
     "output_type": "execute_result"
    }
   ],
   "source": [
    "df_merged['Class'].value_counts()"
   ]
  },
  {
   "cell_type": "code",
   "execution_count": 32,
   "metadata": {},
   "outputs": [],
   "source": [
    "df_merged.to_csv('training_data_merged.csv')"
   ]
  }
 ],
 "metadata": {
  "kernelspec": {
   "display_name": "conda_python3",
   "language": "python",
   "name": "conda_python3"
  },
  "language_info": {
   "codemirror_mode": {
    "name": "ipython",
    "version": 3
   },
   "file_extension": ".py",
   "mimetype": "text/x-python",
   "name": "python",
   "nbconvert_exporter": "python",
   "pygments_lexer": "ipython3",
   "version": "3.10.16"
  }
 },
 "nbformat": 4,
 "nbformat_minor": 4
}
