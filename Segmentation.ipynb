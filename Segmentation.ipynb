{
 "cells": [
  {
   "cell_type": "code",
   "execution_count": 3,
   "id": "c5cddce4",
   "metadata": {},
   "outputs": [],
   "source": [
    "import pandas as pd\n",
    "import re\n",
    "import random"
   ]
  },
  {
   "cell_type": "code",
   "execution_count": null,
   "id": "127e224a",
   "metadata": {},
   "outputs": [],
   "source": [
    "df_output = pd.read_csv('Convert_To_Dataframe_Police_all.csv')"
   ]
  },
  {
   "cell_type": "code",
   "execution_count": 4,
   "id": "63e9949f",
   "metadata": {},
   "outputs": [],
   "source": [
    "filename = \"Convert_To_Dataframe_Police_all.csv\"\n",
    "n = sum(1 for line in open(filename)) - 1 #number of records in file (excludes header)\n",
    "s = 100 #desired sample size\n",
    "skip = sorted(random.sample(range(1,n+1),n-s)) #the 0-indexed header will not be included in the skip list\n",
    "df = pd.read_csv(filename, skiprows=skip)"
   ]
  },
  {
   "cell_type": "code",
   "execution_count": 8,
   "id": "f551762c",
   "metadata": {},
   "outputs": [],
   "source": [
    "def find_with_context(haystack, needle_pattern, context_length):\n",
    "    # Find the matches and their context using the provided regex pattern\n",
    "    matches = re.findall(rf'(.{{0,{context_length}}})\\s*({needle_pattern})\\s*(.{{0,{context_length}}})', haystack)\n",
    "    return matches\n",
    "\n",
    "def add_context_to_dataframe(df, column_name, needle_pattern, context_length, new_column_name):\n",
    "    # Function to apply to each row\n",
    "    def apply_find_with_context(text):\n",
    "        matches = find_with_context(text, needle_pattern, context_length)\n",
    "        # Join the matches and format them for display\n",
    "        return [''.join(match) for match in matches]\n",
    "\n",
    "    # Apply the function to the specified column and create a new column with the results\n",
    "    df[new_column_name] = df[column_name].apply(apply_find_with_context)\n",
    "    return df"
   ]
  },
  {
   "cell_type": "code",
   "execution_count": null,
   "id": "fd233acb",
   "metadata": {},
   "outputs": [
    {
     "name": "stderr",
     "output_type": "stream",
     "text": [
      "/tmp/ipykernel_23467/1292105500.py:3: DeprecationWarning: Flags not at the start of the expression '(.{0,25})\\\\s*((?i)\\\\s*' (truncated) but at position 13\n",
      "  matches = re.findall(rf'(.{{0,{context_length}}})\\s*({needle_pattern})\\s*(.{{0,{context_length}}})', haystack)\n"
     ]
    }
   ],
   "source": [
    "df = add_context_to_dataframe(df, 'Text', r'(?i)\\s*(police|officer)\\s*', 25, 'segment_25')\n",
    "df = add_context_to_dataframe(df, 'Text', r'(?i)\\s*(police|officer)\\s*', 50, 'segment_50')"
   ]
  },
  {
   "cell_type": "code",
   "execution_count": null,
   "id": "30296b5e",
   "metadata": {},
   "outputs": [],
   "source": [
    "df.to_csv(\"validation_data.csv\", index=False)"
   ]
  }
 ],
 "metadata": {
  "kernelspec": {
   "display_name": "conda_python3",
   "language": "python",
   "name": "conda_python3"
  },
  "language_info": {
   "codemirror_mode": {
    "name": "ipython",
    "version": 3
   },
   "file_extension": ".py",
   "mimetype": "text/x-python",
   "name": "python",
   "nbconvert_exporter": "python",
   "pygments_lexer": "ipython3",
   "version": "3.10.16"
  }
 },
 "nbformat": 4,
 "nbformat_minor": 5
}
